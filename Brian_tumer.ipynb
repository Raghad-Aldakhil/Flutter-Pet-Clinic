{
  "nbformat": 4,
  "nbformat_minor": 0,
  "metadata": {
    "colab": {
      "provenance": [],
      "include_colab_link": true
    },
    "kernelspec": {
      "name": "python3",
      "display_name": "Python 3"
    },
    "language_info": {
      "name": "python"
    }
  },
  "cells": [
    {
      "cell_type": "markdown",
      "metadata": {
        "id": "view-in-github",
        "colab_type": "text"
      },
      "source": [
        "<a href=\"https://colab.research.google.com/github/Raghad-Aldakhil/Flutter-Pet-Clinic/blob/master/Brian_tumer.ipynb\" target=\"_parent\"><img src=\"https://colab.research.google.com/assets/colab-badge.svg\" alt=\"Open In Colab\"/></a>"
      ]
    },
    {
      "cell_type": "markdown",
      "source": [
        "# **Brain Tumor Classification**\n",
        "\n",
        "---\n",
        "\n",
        "In this project, Support Vector Machines (SVM) are used to train a model to classify if an image contains a a brain tumot or not. The feature representation method Histogram of Oriented Gradients (HOG) and Histogram are used as the feature representation. \n",
        "\n",
        "\n",
        "\n",
        "---\n",
        "\n"
      ],
      "metadata": {
        "id": "NlXFaoRClhQL"
      }
    },
    {
      "cell_type": "markdown",
      "source": [
        "libraries we need for this project\n",
        "\n",
        "---\n",
        "\n",
        "\n",
        "\n",
        "\n",
        " \n",
        "\n",
        "*   **os**: just for file and directory operations.\n",
        "*   **cv2**: provides a wide range of functions and algorithms for image and video processing: feature extraction, object detection, and more.\n",
        "*  **Numpy**: for data analysis, and machine learning applications. \n",
        "*   **Pyplot**: to generate line plots, bar plots, scatter plots, histograms, and more\n",
        "*   **SVC**: provides functions for training and predicting with SVM-based classifiers\n",
        "*   **train_test_split**: used for splitting a dataset into training and testing subsets\n",
        "* **accuracy_score**: calculates the accuracy of classification models by comparing the predicted labels with the true labels\n",
        "* **confusin_matrix**: generates a confusion matrix, which is a table that presents the performance of a classification model by visualizing the predicted and true labels for each class.\n",
        "\n",
        "* **matplotlib**: rovides a high-level interface for creating and customizing plots and visualizations. \n",
        "* **hog**: for object detection and recognition. It captures shape and texture information by analyzing local gradients in an image.\n",
        "* **seaborn**:  for data analysis and presentation.\n",
        "* **pandas**: DataFrame object, which is a two-dimensional table-like data structure. It allows you to load, manipulate, and analyze structured data, such as CSV files,  It allows you to load data from external sources, perform data transformations, and save the results back to different file formats.\n",
        "\n",
        "\n",
        "\n",
        " \n",
        "\n",
        "\n",
        "\n",
        "\n",
        "\n",
        "\n",
        "\n",
        "\n",
        "\n",
        "\n"
      ],
      "metadata": {
        "id": "44Ss0eB7y4AV"
      }
    },
    {
      "cell_type": "code",
      "execution_count": null,
      "metadata": {
        "colab": {
          "base_uri": "https://localhost:8080/"
        },
        "id": "1XR7Wzhzrf24",
        "outputId": "5c4b720e-cb25-4e65-e3b5-c6747fb4dfba"
      },
      "outputs": [
        {
          "output_type": "stream",
          "name": "stdout",
          "text": [
            "Mounted at /content/drive\n"
          ]
        }
      ],
      "source": [
        "from google.colab import drive \n",
        "drive.mount('/content/drive')"
      ]
    },
    {
      "cell_type": "markdown",
      "source": [
        "\n",
        "> upload the datdset \n",
        "\n"
      ],
      "metadata": {
        "id": "GWGqoQvhrPys"
      }
    },
    {
      "cell_type": "code",
      "source": [
        "import os\n",
        "import cv2\n",
        "import numpy as np\n",
        "import time\n",
        "import matplotlib.pyplot as plt\n",
        "from sklearn.svm import SVC\n",
        "from sklearn.model_selection import train_test_split\n",
        "from sklearn.metrics import accuracy_score, confusion_matrix"
      ],
      "metadata": {
        "id": "44ooyDEJsaSG"
      },
      "execution_count": null,
      "outputs": []
    },
    {
      "cell_type": "code",
      "source": [
        "os.listdir('/content/drive/MyDrive/brain_tumor1_dataset')"
      ],
      "metadata": {
        "colab": {
          "base_uri": "https://localhost:8080/"
        },
        "id": "vuHr9pqsr1_S",
        "outputId": "691dd695-2fd7-458d-9524-2642ab0497ac"
      },
      "execution_count": null,
      "outputs": [
        {
          "output_type": "execute_result",
          "data": {
            "text/plain": [
              "['no', 'yes']"
            ]
          },
          "metadata": {},
          "execution_count": 3
        }
      ]
    },
    {
      "cell_type": "markdown",
      "source": [
        "this section contains the file directories of the images with brain tumor and without brain tumor"
      ],
      "metadata": {
        "id": "5aleFFjXsCeX"
      }
    },
    {
      "cell_type": "code",
      "source": [
        "yes=os.listdir('/content/drive/MyDrive/brain_tumor1_dataset/yes')\n",
        "no=os.listdir('/content/drive/MyDrive/brain_tumor1_dataset/no')"
      ],
      "metadata": {
        "id": "no8nXogXsF7y"
      },
      "execution_count": null,
      "outputs": []
    },
    {
      "cell_type": "code",
      "source": [
        "data=np.concatenate([yes,no])\n",
        "len(data)==len(yes)+len(no)"
      ],
      "metadata": {
        "colab": {
          "base_uri": "https://localhost:8080/"
        },
        "id": "rId95dn_sFxB",
        "outputId": "0d9352cb-3e50-437c-f048-1a480eeda6f6"
      },
      "execution_count": null,
      "outputs": [
        {
          "output_type": "execute_result",
          "data": {
            "text/plain": [
              "True"
            ]
          },
          "metadata": {},
          "execution_count": 5
        }
      ]
    },
    {
      "cell_type": "code",
      "source": [
        "import numpy as np # linear algebra\n",
        "import json\n",
        "from matplotlib import pyplot as plt\n",
        "from skimage import color\n",
        "from skimage.feature import hog\n",
        "from sklearn import svm\n",
        "from sklearn.metrics import classification_report,accuracy_score\n",
        "\n",
        "# Input data files are available in the \"../input/\" directory.\n",
        "# For example, running this (by clicking run or pressing Shift+Enter) will list the files in the input directory\n",
        "\n",
        "from subprocess import check_output\n",
        "# print(check_output([\"ls\", \"../input\"]).decode(\"utf8\"))"
      ],
      "metadata": {
        "id": "CivuLB210I23"
      },
      "execution_count": null,
      "outputs": []
    },
    {
      "cell_type": "markdown",
      "source": [
        "\n",
        "\n",
        "> lists the files present in specific directories using os.listdir() and assigns the file names to yes_values and no_values. These directory paths to brain tumor images.\n",
        "\n"
      ],
      "metadata": {
        "id": "n6GOg4-EFtrd"
      }
    },
    {
      "cell_type": "code",
      "source": [
        "yes_values=os.listdir('/content/drive/MyDrive/brain_tumor1_dataset/yes')\n",
        "no_values=os.listdir('/content/drive/MyDrive/brain_tumor1_dataset/no')"
      ],
      "metadata": {
        "id": "HoBE18Qr1IjP"
      },
      "execution_count": null,
      "outputs": []
    },
    {
      "cell_type": "markdown",
      "source": [
        "\n",
        "\n",
        "Creating target labels for the data, initializes :\n",
        "\n",
        "\n",
        "> **target_x** as an array of ones with the length equal to (1) of files in the 'yes' directory (indicating brain tumor)\n",
        "\n",
        "\n",
        "\n",
        "> **target_y** as an array of (0) with the length equal to the number of files in the 'no' directory (indicating no brain tumor).  \n",
        "\n",
        "\n",
        "> **data_target** target_x and target_y combined using np.concatenate(), which represents the target labels for the classification task. then, verifies whether the length of data_target is equal to the sum of the lengths of target_x and target_y. to ensure that the target labels have been created correctly.\n",
        "\n",
        "\n",
        "\n",
        "\n",
        "\n",
        "\n",
        "\n"
      ],
      "metadata": {
        "id": "d-cYZ02AGOs-"
      }
    },
    {
      "cell_type": "code",
      "source": [
        "target_x=np.full(len(yes),1)\n",
        "target_y=np.full(len(no),0)\n",
        "data_target=np.concatenate([target_x,target_y])\n",
        "len(data_target)==len(target_x)+len(target_y)"
      ],
      "metadata": {
        "colab": {
          "base_uri": "https://localhost:8080/"
        },
        "id": "05CoheEp1jFc",
        "outputId": "ac8aea41-c9c3-4875-973f-a5b4c0be7a69"
      },
      "execution_count": null,
      "outputs": [
        {
          "output_type": "execute_result",
          "data": {
            "text/plain": [
              "True"
            ]
          },
          "metadata": {},
          "execution_count": 8
        }
      ]
    },
    {
      "cell_type": "code",
      "source": [
        "# len(data_target)==len(data)"
      ],
      "metadata": {
        "colab": {
          "base_uri": "https://localhost:8080/"
        },
        "id": "x1aI25KUCnEU",
        "outputId": "2f6b4199-717d-40cd-9c8d-2bb1ddc888a8"
      },
      "execution_count": null,
      "outputs": [
        {
          "output_type": "execute_result",
          "data": {
            "text/plain": [
              "True"
            ]
          },
          "metadata": {},
          "execution_count": 30
        }
      ]
    },
    {
      "cell_type": "code",
      "source": [
        "# len(X_data)==len(data)==len(data_target)"
      ],
      "metadata": {
        "colab": {
          "base_uri": "https://localhost:8080/"
        },
        "id": "_KKuudXtCr_F",
        "outputId": "3586635f-3e68-4c4f-8d4d-0632f70f123a"
      },
      "execution_count": null,
      "outputs": [
        {
          "output_type": "execute_result",
          "data": {
            "text/plain": [
              "True"
            ]
          },
          "metadata": {},
          "execution_count": 31
        }
      ]
    },
    {
      "cell_type": "code",
      "source": [
        "# X_data"
      ],
      "metadata": {
        "id": "JPTV6kMdMRcD"
      },
      "execution_count": null,
      "outputs": []
    },
    {
      "cell_type": "code",
      "source": [],
      "metadata": {
        "id": "1yTLcxW9HK-g"
      },
      "execution_count": null,
      "outputs": []
    },
    {
      "cell_type": "markdown",
      "source": [
        "### **HOG Features (Histogram of Oriented Gradients)** \n",
        "\n",
        "\n",
        "\n",
        "---\n",
        "\n",
        "HOG, is a feature descriptor used in computer vision and image processing. It is commonly employed for object detection and recognition tasks. The HOG feature descriptor captures the shape and texture information of an object or region in an image.\n",
        "\n",
        "The feature extraction technique involves the following steps:\n",
        "\n",
        "\n",
        "1.   Image Preprocessing: The input image is first preprocessed to enhance contrast and reduce noise. This can include operations like grayscale conversion, normalization, and local image normalization.\n",
        "2.   Gradient Computation: Gradients are computed for the image to capture the local intensity variations. Typically, the gradients are calculated using differential filters like Sobel or Scharr operators.\n",
        "3. Orientation Binning: The image is divided into small cells, and for each cell, the gradient orientations are binned into a set of predefined directions (e.g., 0° to 180°). This step helps capture the dominant orientation of gradients within each cell.\n",
        "4. Histogram Calculation: Within each cell, a histogram of gradient orientations is constructed based on the orientations and magnitudes of the gradients. The histogram bins accumulate the gradient magnitudes based on the corresponding orientation.\n",
        "5. Block Normalization: The image is further divided into blocks, which consist of multiple cells. The histograms within each block are concatenated, and a normalization step is applied to each block. This normalization helps to reduce the influence of lighting variations and enhances the robustness of the descriptor.\n",
        "6. Descriptor Formation: Finally, the normalized histogram values from all the blocks are concatenated to form the HOG feature descriptor. The resulting descriptor provides a compact representation of the shape and texture information of the object or region of interest.\n",
        "\n",
        "\n",
        "\n",
        "\n",
        "\n",
        "The HOG feature descriptor is often used in conjunction with machine learning algorithms such as support vector machines (SVM) or neural networks for object detection and recognition tasks. It has been successfully applied in various applications, including pedestrian detection, face recognition, and vehicle detection."
      ],
      "metadata": {
        "id": "nMoeBlROCW0z"
      }
    },
    {
      "cell_type": "code",
      "source": [
        "from scipy import misc\n",
        "X_data =[]\n",
        "for file in yes_values:\n",
        "    #face = misc.imread('../input/brain_tumor_dataset/yes/'+file)\n",
        "    img = cv2.imread('/content/drive/MyDrive/brain_tumor1_dataset/yes/'+file)\n",
        "    face = cv2.resize(img, (32, 32) )\n",
        "    (b, g, r)=cv2.split(face) \n",
        "    img=cv2.merge([r,g,b])\n",
        "    X_data.append(img)"
      ],
      "metadata": {
        "id": "3oeNqTcgFTJl"
      },
      "execution_count": null,
      "outputs": []
    },
    {
      "cell_type": "markdown",
      "source": [
        "\n",
        "\n",
        "> **X_data**: initializes an empty list to store the processed image data.\n",
        "\n",
        "> Looping through yes_values (images with brain tumor): For each file name in yes_values, it reads the corresponding image using cv2.imread()\n",
        "\n",
        "> then, the image is resized to a fixed size of 32x32 pixels using cv2.resize() \n",
        "\n",
        "> The image channels (BGR) are split using cv2.split(), resulting in separate arrays for each channel.\n",
        "\n",
        "> The channels are then merged back together in RGB order using cv2.merge() to convert the image to RGB format.\n",
        "\n",
        "> then, The processed image is appended to the **X_data** list\n",
        "\n",
        "\n",
        "\n",
        "\n",
        "\n",
        "\n"
      ],
      "metadata": {
        "id": "ni1CDF39I3oj"
      }
    },
    {
      "cell_type": "code",
      "source": [
        "for file in no_values:\n",
        "    #face = misc.imread('../input/brain_tumor_dataset/yes/'+file)\n",
        "    img = cv2.imread('/content/drive/MyDrive/brain_tumor1_dataset/no/'+file)\n",
        "    face = cv2.resize(img, (32, 32) )\n",
        "    (b, g, r)=cv2.split(face) \n",
        "    img=cv2.merge([r,g,b])\n",
        "    X_data.append(img)"
      ],
      "metadata": {
        "id": "pQ8WWSNcFTDI"
      },
      "execution_count": null,
      "outputs": []
    },
    {
      "cell_type": "markdown",
      "source": [
        "> Looping through no_values (images without brain tumor):\n",
        "\n",
        "> Similar to the previous loop, it reads, resizes, splits, and merges each image.\n",
        "\n",
        "> The processed image is also appended to the X_data list."
      ],
      "metadata": {
        "id": "Mjr1sHkTKXOQ"
      }
    },
    {
      "cell_type": "code",
      "source": [
        "len(X_data)==len(data)==len(data_target)"
      ],
      "metadata": {
        "id": "m4bpuwFSFcAF",
        "colab": {
          "base_uri": "https://localhost:8080/"
        },
        "outputId": "2beb67aa-1beb-469e-93cb-a0e886295605"
      },
      "execution_count": null,
      "outputs": [
        {
          "output_type": "execute_result",
          "data": {
            "text/plain": [
              "True"
            ]
          },
          "metadata": {},
          "execution_count": 11
        }
      ]
    },
    {
      "cell_type": "markdown",
      "source": [
        "> checks whether the length of X_data is equal to the lengths of data and data_target.to ensure that the data has been processed and populated correctly."
      ],
      "metadata": {
        "id": "OcHhbJhtK3y5"
      }
    },
    {
      "cell_type": "markdown",
      "source": [
        "\n",
        "\n",
        "---\n",
        "\n"
      ],
      "metadata": {
        "id": "V-7mG_9NNSzN"
      }
    },
    {
      "cell_type": "markdown",
      "source": [
        "\n",
        "\n",
        ">  **ppc** variable, representing the number of pixels per cell for the HOG calculation. This parameter controls the granularity of the HOG features\n",
        "\n",
        "> initializes two empty lists, **hog_features** and **hog_images**, which will be used to store the computed HOG features and the corresponding HOG visualization images.\n",
        "\n",
        "> Looping through images in X_data:\n",
        " >> For each image, it checks the shape of the image using img.shape.\n",
        "\n",
        " >> If the image has three channels (RGB image), it converts the image to grayscale using cv2.cvtColor() with the cv2.COLOR_RGB2GRAY flag.\n",
        "\n",
        " >> then calculates the HOG features and visualizes the HOG image using the hog() function from skimage.feature. The HOG parameters such as orientations, pixels_per_cell, cells_per_block, and block_norm are provided.\n",
        "\n",
        " >> The computed HOG features (fd) and the corresponding HOG image (hog_image) are appended to the hog_features and hog_images lists, respectively.\n",
        "\n",
        "> After the loop, the code prints the shape of each set of HOG features in the hog_features list. This is done using a loop and enumerate() to access the index and features\n",
        "\n"
      ],
      "metadata": {
        "id": "wDTbbf_jLQc2"
      }
    },
    {
      "cell_type": "code",
      "source": [
        "from skimage.feature import hog\n",
        "\n",
        "ppc = 8  # pixels per cell\n",
        "\n",
        "hog_features = []\n",
        "hog_images = []\n",
        "for img in X_data:\n",
        "    if len(img.shape) == 3:  # Color image (RGB)\n",
        "        # Convert the image to grayscale\n",
        "        gray = cv2.cvtColor(img, cv2.COLOR_RGB2GRAY)\n",
        "\n",
        "        # Calculate the HOG features and visualize the HOG image\n",
        "        fd, hog_image = hog(gray, orientations=8, pixels_per_cell=(ppc, ppc),\n",
        "                            cells_per_block=(4, 4), block_norm='L2', visualize=True,\n",
        "                            multichannel=False, channel_axis=-1)\n",
        "\n",
        "    elif len(img.shape) == 2:  # Grayscale image\n",
        "        # Calculate the HOG features and visualize the HOG image\n",
        "        fd, hog_image = hog(img, orientations=8, pixels_per_cell=(ppc, ppc),\n",
        "                            cells_per_block=(4, 4), block_norm='L2', visualize=True,\n",
        "                            multichannel=False, channel_axis=-1)\n",
        "\n",
        "    else:  # Other types of images (e.g., multi-spectral)\n",
        "        raise ValueError('Unsupported image shape:', img.shape)\n",
        "\n",
        "    # Append the HOG features and image to the lists\n",
        "    hog_features.append(fd)\n",
        "    hog_images.append(hog_image)\n",
        "\n",
        "# Verify the shape of the HOG features\n",
        "for i, features in enumerate(hog_features):\n",
        "    print(f\"Image {i+1} HOG features shape:\", features.shape)"
      ],
      "metadata": {
        "colab": {
          "base_uri": "https://localhost:8080/"
        },
        "id": "jeW0H0If0BWY",
        "outputId": "41d90efe-3489-4e46-8b2a-a9c6c3332846"
      },
      "execution_count": null,
      "outputs": [
        {
          "output_type": "stream",
          "name": "stderr",
          "text": [
            "<ipython-input-19-c32e6946abf8>:13: FutureWarning: `multichannel` is a deprecated argument name for `hog`. It will be removed in version 1.0. Please use `channel_axis` instead.\n",
            "  fd, hog_image = hog(gray, orientations=8, pixels_per_cell=(ppc, ppc),\n"
          ]
        },
        {
          "output_type": "stream",
          "name": "stdout",
          "text": [
            "Image 1 HOG features shape: (128,)\n",
            "Image 2 HOG features shape: (128,)\n",
            "Image 3 HOG features shape: (128,)\n",
            "Image 4 HOG features shape: (128,)\n",
            "Image 5 HOG features shape: (128,)\n",
            "Image 6 HOG features shape: (128,)\n",
            "Image 7 HOG features shape: (128,)\n",
            "Image 8 HOG features shape: (128,)\n",
            "Image 9 HOG features shape: (128,)\n",
            "Image 10 HOG features shape: (128,)\n",
            "Image 11 HOG features shape: (128,)\n",
            "Image 12 HOG features shape: (128,)\n",
            "Image 13 HOG features shape: (128,)\n",
            "Image 14 HOG features shape: (128,)\n",
            "Image 15 HOG features shape: (128,)\n",
            "Image 16 HOG features shape: (128,)\n",
            "Image 17 HOG features shape: (128,)\n",
            "Image 18 HOG features shape: (128,)\n",
            "Image 19 HOG features shape: (128,)\n",
            "Image 20 HOG features shape: (128,)\n",
            "Image 21 HOG features shape: (128,)\n",
            "Image 22 HOG features shape: (128,)\n",
            "Image 23 HOG features shape: (128,)\n",
            "Image 24 HOG features shape: (128,)\n",
            "Image 25 HOG features shape: (128,)\n",
            "Image 26 HOG features shape: (128,)\n",
            "Image 27 HOG features shape: (128,)\n",
            "Image 28 HOG features shape: (128,)\n",
            "Image 29 HOG features shape: (128,)\n",
            "Image 30 HOG features shape: (128,)\n",
            "Image 31 HOG features shape: (128,)\n",
            "Image 32 HOG features shape: (128,)\n",
            "Image 33 HOG features shape: (128,)\n",
            "Image 34 HOG features shape: (128,)\n",
            "Image 35 HOG features shape: (128,)\n",
            "Image 36 HOG features shape: (128,)\n",
            "Image 37 HOG features shape: (128,)\n",
            "Image 38 HOG features shape: (128,)\n",
            "Image 39 HOG features shape: (128,)\n",
            "Image 40 HOG features shape: (128,)\n",
            "Image 41 HOG features shape: (128,)\n",
            "Image 42 HOG features shape: (128,)\n",
            "Image 43 HOG features shape: (128,)\n",
            "Image 44 HOG features shape: (128,)\n",
            "Image 45 HOG features shape: (128,)\n",
            "Image 46 HOG features shape: (128,)\n",
            "Image 47 HOG features shape: (128,)\n",
            "Image 48 HOG features shape: (128,)\n",
            "Image 49 HOG features shape: (128,)\n",
            "Image 50 HOG features shape: (128,)\n",
            "Image 51 HOG features shape: (128,)\n",
            "Image 52 HOG features shape: (128,)\n",
            "Image 53 HOG features shape: (128,)\n",
            "Image 54 HOG features shape: (128,)\n",
            "Image 55 HOG features shape: (128,)\n",
            "Image 56 HOG features shape: (128,)\n",
            "Image 57 HOG features shape: (128,)\n",
            "Image 58 HOG features shape: (128,)\n",
            "Image 59 HOG features shape: (128,)\n",
            "Image 60 HOG features shape: (128,)\n",
            "Image 61 HOG features shape: (128,)\n",
            "Image 62 HOG features shape: (128,)\n",
            "Image 63 HOG features shape: (128,)\n",
            "Image 64 HOG features shape: (128,)\n",
            "Image 65 HOG features shape: (128,)\n",
            "Image 66 HOG features shape: (128,)\n",
            "Image 67 HOG features shape: (128,)\n",
            "Image 68 HOG features shape: (128,)\n",
            "Image 69 HOG features shape: (128,)\n",
            "Image 70 HOG features shape: (128,)\n",
            "Image 71 HOG features shape: (128,)\n",
            "Image 72 HOG features shape: (128,)\n",
            "Image 73 HOG features shape: (128,)\n",
            "Image 74 HOG features shape: (128,)\n",
            "Image 75 HOG features shape: (128,)\n",
            "Image 76 HOG features shape: (128,)\n",
            "Image 77 HOG features shape: (128,)\n",
            "Image 78 HOG features shape: (128,)\n",
            "Image 79 HOG features shape: (128,)\n",
            "Image 80 HOG features shape: (128,)\n",
            "Image 81 HOG features shape: (128,)\n",
            "Image 82 HOG features shape: (128,)\n",
            "Image 83 HOG features shape: (128,)\n",
            "Image 84 HOG features shape: (128,)\n",
            "Image 85 HOG features shape: (128,)\n",
            "Image 86 HOG features shape: (128,)\n",
            "Image 87 HOG features shape: (128,)\n",
            "Image 88 HOG features shape: (128,)\n",
            "Image 89 HOG features shape: (128,)\n",
            "Image 90 HOG features shape: (128,)\n",
            "Image 91 HOG features shape: (128,)\n",
            "Image 92 HOG features shape: (128,)\n",
            "Image 93 HOG features shape: (128,)\n",
            "Image 94 HOG features shape: (128,)\n",
            "Image 95 HOG features shape: (128,)\n",
            "Image 96 HOG features shape: (128,)\n",
            "Image 97 HOG features shape: (128,)\n",
            "Image 98 HOG features shape: (128,)\n",
            "Image 99 HOG features shape: (128,)\n",
            "Image 100 HOG features shape: (128,)\n",
            "Image 101 HOG features shape: (128,)\n",
            "Image 102 HOG features shape: (128,)\n",
            "Image 103 HOG features shape: (128,)\n",
            "Image 104 HOG features shape: (128,)\n",
            "Image 105 HOG features shape: (128,)\n",
            "Image 106 HOG features shape: (128,)\n",
            "Image 107 HOG features shape: (128,)\n",
            "Image 108 HOG features shape: (128,)\n",
            "Image 109 HOG features shape: (128,)\n",
            "Image 110 HOG features shape: (128,)\n",
            "Image 111 HOG features shape: (128,)\n",
            "Image 112 HOG features shape: (128,)\n",
            "Image 113 HOG features shape: (128,)\n",
            "Image 114 HOG features shape: (128,)\n",
            "Image 115 HOG features shape: (128,)\n",
            "Image 116 HOG features shape: (128,)\n",
            "Image 117 HOG features shape: (128,)\n",
            "Image 118 HOG features shape: (128,)\n",
            "Image 119 HOG features shape: (128,)\n",
            "Image 120 HOG features shape: (128,)\n",
            "Image 121 HOG features shape: (128,)\n",
            "Image 122 HOG features shape: (128,)\n",
            "Image 123 HOG features shape: (128,)\n",
            "Image 124 HOG features shape: (128,)\n",
            "Image 125 HOG features shape: (128,)\n",
            "Image 126 HOG features shape: (128,)\n",
            "Image 127 HOG features shape: (128,)\n",
            "Image 128 HOG features shape: (128,)\n",
            "Image 129 HOG features shape: (128,)\n",
            "Image 130 HOG features shape: (128,)\n",
            "Image 131 HOG features shape: (128,)\n",
            "Image 132 HOG features shape: (128,)\n",
            "Image 133 HOG features shape: (128,)\n",
            "Image 134 HOG features shape: (128,)\n",
            "Image 135 HOG features shape: (128,)\n",
            "Image 136 HOG features shape: (128,)\n",
            "Image 137 HOG features shape: (128,)\n",
            "Image 138 HOG features shape: (128,)\n",
            "Image 139 HOG features shape: (128,)\n",
            "Image 140 HOG features shape: (128,)\n",
            "Image 141 HOG features shape: (128,)\n",
            "Image 142 HOG features shape: (128,)\n",
            "Image 143 HOG features shape: (128,)\n",
            "Image 144 HOG features shape: (128,)\n",
            "Image 145 HOG features shape: (128,)\n",
            "Image 146 HOG features shape: (128,)\n",
            "Image 147 HOG features shape: (128,)\n",
            "Image 148 HOG features shape: (128,)\n",
            "Image 149 HOG features shape: (128,)\n",
            "Image 150 HOG features shape: (128,)\n",
            "Image 151 HOG features shape: (128,)\n",
            "Image 152 HOG features shape: (128,)\n",
            "Image 153 HOG features shape: (128,)\n",
            "Image 154 HOG features shape: (128,)\n",
            "Image 155 HOG features shape: (128,)\n",
            "Image 156 HOG features shape: (128,)\n",
            "Image 157 HOG features shape: (128,)\n",
            "Image 158 HOG features shape: (128,)\n",
            "Image 159 HOG features shape: (128,)\n",
            "Image 160 HOG features shape: (128,)\n",
            "Image 161 HOG features shape: (128,)\n",
            "Image 162 HOG features shape: (128,)\n",
            "Image 163 HOG features shape: (128,)\n",
            "Image 164 HOG features shape: (128,)\n",
            "Image 165 HOG features shape: (128,)\n",
            "Image 166 HOG features shape: (128,)\n",
            "Image 167 HOG features shape: (128,)\n",
            "Image 168 HOG features shape: (128,)\n",
            "Image 169 HOG features shape: (128,)\n",
            "Image 170 HOG features shape: (128,)\n",
            "Image 171 HOG features shape: (128,)\n",
            "Image 172 HOG features shape: (128,)\n",
            "Image 173 HOG features shape: (128,)\n",
            "Image 174 HOG features shape: (128,)\n",
            "Image 175 HOG features shape: (128,)\n",
            "Image 176 HOG features shape: (128,)\n",
            "Image 177 HOG features shape: (128,)\n",
            "Image 178 HOG features shape: (128,)\n",
            "Image 179 HOG features shape: (128,)\n",
            "Image 180 HOG features shape: (128,)\n",
            "Image 181 HOG features shape: (128,)\n",
            "Image 182 HOG features shape: (128,)\n",
            "Image 183 HOG features shape: (128,)\n",
            "Image 184 HOG features shape: (128,)\n",
            "Image 185 HOG features shape: (128,)\n",
            "Image 186 HOG features shape: (128,)\n",
            "Image 187 HOG features shape: (128,)\n",
            "Image 188 HOG features shape: (128,)\n",
            "Image 189 HOG features shape: (128,)\n",
            "Image 190 HOG features shape: (128,)\n",
            "Image 191 HOG features shape: (128,)\n",
            "Image 192 HOG features shape: (128,)\n",
            "Image 193 HOG features shape: (128,)\n",
            "Image 194 HOG features shape: (128,)\n",
            "Image 195 HOG features shape: (128,)\n",
            "Image 196 HOG features shape: (128,)\n",
            "Image 197 HOG features shape: (128,)\n",
            "Image 198 HOG features shape: (128,)\n",
            "Image 199 HOG features shape: (128,)\n",
            "Image 200 HOG features shape: (128,)\n",
            "Image 201 HOG features shape: (128,)\n",
            "Image 202 HOG features shape: (128,)\n",
            "Image 203 HOG features shape: (128,)\n",
            "Image 204 HOG features shape: (128,)\n",
            "Image 205 HOG features shape: (128,)\n",
            "Image 206 HOG features shape: (128,)\n",
            "Image 207 HOG features shape: (128,)\n",
            "Image 208 HOG features shape: (128,)\n",
            "Image 209 HOG features shape: (128,)\n",
            "Image 210 HOG features shape: (128,)\n",
            "Image 211 HOG features shape: (128,)\n",
            "Image 212 HOG features shape: (128,)\n",
            "Image 213 HOG features shape: (128,)\n",
            "Image 214 HOG features shape: (128,)\n",
            "Image 215 HOG features shape: (128,)\n",
            "Image 216 HOG features shape: (128,)\n",
            "Image 217 HOG features shape: (128,)\n",
            "Image 218 HOG features shape: (128,)\n",
            "Image 219 HOG features shape: (128,)\n",
            "Image 220 HOG features shape: (128,)\n",
            "Image 221 HOG features shape: (128,)\n",
            "Image 222 HOG features shape: (128,)\n",
            "Image 223 HOG features shape: (128,)\n",
            "Image 224 HOG features shape: (128,)\n",
            "Image 225 HOG features shape: (128,)\n",
            "Image 226 HOG features shape: (128,)\n",
            "Image 227 HOG features shape: (128,)\n",
            "Image 228 HOG features shape: (128,)\n",
            "Image 229 HOG features shape: (128,)\n",
            "Image 230 HOG features shape: (128,)\n",
            "Image 231 HOG features shape: (128,)\n",
            "Image 232 HOG features shape: (128,)\n",
            "Image 233 HOG features shape: (128,)\n",
            "Image 234 HOG features shape: (128,)\n",
            "Image 235 HOG features shape: (128,)\n",
            "Image 236 HOG features shape: (128,)\n",
            "Image 237 HOG features shape: (128,)\n",
            "Image 238 HOG features shape: (128,)\n",
            "Image 239 HOG features shape: (128,)\n",
            "Image 240 HOG features shape: (128,)\n",
            "Image 241 HOG features shape: (128,)\n",
            "Image 242 HOG features shape: (128,)\n",
            "Image 243 HOG features shape: (128,)\n",
            "Image 244 HOG features shape: (128,)\n",
            "Image 245 HOG features shape: (128,)\n",
            "Image 246 HOG features shape: (128,)\n",
            "Image 247 HOG features shape: (128,)\n",
            "Image 248 HOG features shape: (128,)\n",
            "Image 249 HOG features shape: (128,)\n",
            "Image 250 HOG features shape: (128,)\n",
            "Image 251 HOG features shape: (128,)\n",
            "Image 252 HOG features shape: (128,)\n",
            "Image 253 HOG features shape: (128,)\n"
          ]
        }
      ]
    },
    {
      "cell_type": "markdown",
      "source": [
        "\n",
        "\n",
        "> **plt.imshow()**: This function is used to display an image in a plot. It takes the image data as input and displays it as an image.\n",
        "\n",
        "> **hog_images[51]**: It accesses the 52nd element (index 51) in the hog_images list. hog_images list contains HOG visualization images corresponding to each image in X_data, this code displays the HOG image associated with the 52nd image in the list\n",
        "\n"
      ],
      "metadata": {
        "id": "APabxQ8bNpKx"
      }
    },
    {
      "cell_type": "code",
      "source": [
        "plt.imshow(hog_images[51])"
      ],
      "metadata": {
        "colab": {
          "base_uri": "https://localhost:8080/",
          "height": 445
        },
        "id": "IctJJQYJ2lpe",
        "outputId": "48832ca2-2d6f-4438-dc96-5cd48a63d12a"
      },
      "execution_count": null,
      "outputs": [
        {
          "output_type": "execute_result",
          "data": {
            "text/plain": [
              "<matplotlib.image.AxesImage at 0x7f62b731c400>"
            ]
          },
          "metadata": {},
          "execution_count": 14
        },
        {
          "output_type": "display_data",
          "data": {
            "text/plain": [
              "<Figure size 640x480 with 1 Axes>"
            ],
            "image/png": "[encoded data removed]"
          },
          "metadata": {}
        }
      ]
    },
    {
      "cell_type": "code",
      "source": [
        "target_x=np.full(len(yes),1)\n",
        "target_y=np.full(len(no),0)\n",
        "data_target=np.concatenate([target_x,target_y])\n",
        "len(data_target)==len(target_x)+len(target_y)"
      ],
      "metadata": {
        "colab": {
          "base_uri": "https://localhost:8080/"
        },
        "id": "jGjGCxaC3EBq",
        "outputId": "0c697d72-9bb8-4754-e9e2-24bb0f60b988"
      },
      "execution_count": null,
      "outputs": [
        {
          "output_type": "execute_result",
          "data": {
            "text/plain": [
              "True"
            ]
          },
          "metadata": {},
          "execution_count": 15
        }
      ]
    },
    {
      "cell_type": "markdown",
      "source": [
        "\n",
        "\n",
        "> **target_x** = np.full(len(yes), 1): This line creates a NumPy array target_x filled with the value (1), with a length equal to the number of elements in the 'yes' list. This is done using the np.full() function, which takes the length of yes as the first argument, the value 1 as the second argument, and creates an array of that length filled with 1.\n",
        "\n",
        "> **target_y** = np.full(len(no), 0): same thing, but for 'no' list. \n",
        "\n",
        "> data_target = np.concatenate([target_x, target_y]): This line concatenates the target_x and target_y arrays using the np.concatenate() function. The resulting array data_target contains the target labels for the classification task, where 1 represents (brain tumor) and 0 represents (no brain tumor).\n",
        "\n",
        "> len(data_target) == len(target_x) + len(target_y): This line checks to ensure that the length is equal.\n",
        "\n"
      ],
      "metadata": {
        "id": "z1GZi5_7OmLa"
      }
    },
    {
      "cell_type": "code",
      "source": [
        "len(data_target)==len(data)"
      ],
      "metadata": {
        "colab": {
          "base_uri": "https://localhost:8080/"
        },
        "id": "hxOLR6Zc3TV4",
        "outputId": "f7987cc9-9f92-4003-f1b7-c73c2b11c312"
      },
      "execution_count": null,
      "outputs": [
        {
          "output_type": "execute_result",
          "data": {
            "text/plain": [
              "True"
            ]
          },
          "metadata": {},
          "execution_count": 16
        }
      ]
    },
    {
      "cell_type": "code",
      "source": [
        "len(X_data)==len(data)==len(data_target)"
      ],
      "metadata": {
        "colab": {
          "base_uri": "https://localhost:8080/"
        },
        "id": "tUsojCMB3VCf",
        "outputId": "ea7f46c1-ed93-4e80-fae1-1c74c21eac62"
      },
      "execution_count": null,
      "outputs": [
        {
          "output_type": "execute_result",
          "data": {
            "text/plain": [
              "True"
            ]
          },
          "metadata": {},
          "execution_count": 17
        }
      ]
    },
    {
      "cell_type": "code",
      "source": [
        "data_target"
      ],
      "metadata": {
        "colab": {
          "base_uri": "https://localhost:8080/"
        },
        "id": "BhPM_XzF31b-",
        "outputId": "2178cccc-f007-425e-c7d5-b32902995697"
      },
      "execution_count": null,
      "outputs": [
        {
          "output_type": "execute_result",
          "data": {
            "text/plain": [
              "array([1, 1, 1, 1, 1, 1, 1, 1, 1, 1, 1, 1, 1, 1, 1, 1, 1, 1, 1, 1, 1, 1,\n",
              "       1, 1, 1, 1, 1, 1, 1, 1, 1, 1, 1, 1, 1, 1, 1, 1, 1, 1, 1, 1, 1, 1,\n",
              "       1, 1, 1, 1, 1, 1, 1, 1, 1, 1, 1, 1, 1, 1, 1, 1, 1, 1, 1, 1, 1, 1,\n",
              "       1, 1, 1, 1, 1, 1, 1, 1, 1, 1, 1, 1, 1, 1, 1, 1, 1, 1, 1, 1, 1, 1,\n",
              "       1, 1, 1, 1, 1, 1, 1, 1, 1, 1, 1, 1, 1, 1, 1, 1, 1, 1, 1, 1, 1, 1,\n",
              "       1, 1, 1, 1, 1, 1, 1, 1, 1, 1, 1, 1, 1, 1, 1, 1, 1, 1, 1, 1, 1, 1,\n",
              "       1, 1, 1, 1, 1, 1, 1, 1, 1, 1, 1, 1, 1, 1, 1, 1, 1, 1, 1, 1, 1, 1,\n",
              "       1, 0, 0, 0, 0, 0, 0, 0, 0, 0, 0, 0, 0, 0, 0, 0, 0, 0, 0, 0, 0, 0,\n",
              "       0, 0, 0, 0, 0, 0, 0, 0, 0, 0, 0, 0, 0, 0, 0, 0, 0, 0, 0, 0, 0, 0,\n",
              "       0, 0, 0, 0, 0, 0, 0, 0, 0, 0, 0, 0, 0, 0, 0, 0, 0, 0, 0, 0, 0, 0,\n",
              "       0, 0, 0, 0, 0, 0, 0, 0, 0, 0, 0, 0, 0, 0, 0, 0, 0, 0, 0, 0, 0, 0,\n",
              "       0, 0, 0, 0, 0, 0, 0, 0, 0, 0, 0])"
            ]
          },
          "metadata": {},
          "execution_count": 32
        }
      ]
    },
    {
      "cell_type": "code",
      "source": [
        "hog_features.shape"
      ],
      "metadata": {
        "colab": {
          "base_uri": "https://localhost:8080/"
        },
        "id": "IR_kLR104Vr3",
        "outputId": "5ff8d1a3-3ddf-46f9-a1be-ecc18f2e9441"
      },
      "execution_count": null,
      "outputs": [
        {
          "output_type": "execute_result",
          "data": {
            "text/plain": [
              "(253, 128)"
            ]
          },
          "metadata": {},
          "execution_count": 24
        }
      ]
    },
    {
      "cell_type": "code",
      "source": [
        "data_target.shape"
      ],
      "metadata": {
        "colab": {
          "base_uri": "https://localhost:8080/"
        },
        "id": "gABAwZSn6IXa",
        "outputId": "7a44edd7-120c-4810-f276-00561a82acc1"
      },
      "execution_count": null,
      "outputs": [
        {
          "output_type": "execute_result",
          "data": {
            "text/plain": [
              "(253, 1)"
            ]
          },
          "metadata": {},
          "execution_count": 37
        }
      ]
    },
    {
      "cell_type": "code",
      "source": [
        "data_target = data_target.reshape(-1,1)"
      ],
      "metadata": {
        "id": "bgFj7GD-59Ju"
      },
      "execution_count": null,
      "outputs": []
    },
    {
      "cell_type": "markdown",
      "source": [
        "\n",
        "\n",
        "> this code segment below, performs the steps required to train an SVM classifier using the HOG features extracted from the images. It splits the data into training and testing sets, trains the SVM classifier on the training data, and evaluates its accuracy on the testing data.\n",
        "\n"
      ],
      "metadata": {
        "id": "a21vvYV9RL-H"
      }
    },
    {
      "cell_type": "code",
      "source": [
        "clf = svm.SVC() # for classification tasks using Support Vector Machines\n",
        "\n",
        "\n",
        "hog_features = np.array(hog_features)\n",
        "data_target = np.array(data_target)\n",
        "\n",
        "# Reshape the features array to have an additional dimension along the second axis\n",
        "hog_features = hog_features.reshape(hog_features.shape[0], -1)\n",
        "\n",
        "# Concatenate the HOG features and target arrays horizontally\n",
        "data_frame = np.hstack((hog_features, data_target))\n",
        "\n",
        "# Shuffle the data_frame array\n",
        "np.random.shuffle(data_frame)\n",
        "\n",
        "# Split the data_frame array into training and testing arrays\n",
        "train_data, test_data = train_test_split(data_frame, test_size=0.2, random_state=42)\n",
        "\n",
        "# Split the training and testing arrays into input and target arrays\n",
        "train_X, train_y = train_data[:, :-1], train_data[:, -1]\n",
        "test_X, test_y = test_data[:, :-1], test_data[:, -1]\n",
        "\n",
        "# Train the SVM classifier on the training data\n",
        "clf.fit(train_X, train_y)\n",
        "\n",
        "# Evaluate the SVM classifier on the testing data\n",
        "accuracy = clf.score(test_X, test_y)\n",
        "print(\"Accuracy:\", accuracy)"
      ],
      "metadata": {
        "colab": {
          "base_uri": "https://localhost:8080/"
        },
        "id": "JZDSiQds4JPe",
        "outputId": "b444fed2-268d-48a1-e3bd-8ef23f0e929a"
      },
      "execution_count": null,
      "outputs": [
        {
          "output_type": "stream",
          "name": "stdout",
          "text": [
            "Accuracy: 0.8235294117647058\n"
          ]
        }
      ]
    },
    {
      "cell_type": "code",
      "source": [
        "y_pred = clf.predict(test_X)"
      ],
      "metadata": {
        "id": "sgYzS3W365Ol"
      },
      "execution_count": null,
      "outputs": []
    },
    {
      "cell_type": "markdown",
      "source": [
        "\n",
        "\n",
        "> After executing this code, the variable y_pred will contain the predicted class labels for the samples in the testing data based on the trained SVM classifier. These predictions can be further used for evaluation\n",
        "\n"
      ],
      "metadata": {
        "id": "cRhPcVlvTjIL"
      }
    },
    {
      "cell_type": "markdown",
      "source": [
        "\n",
        "\n",
        "> prints the accuracy score,and then the classification report, providing detailed evaluation metrics for each class in the classification task.\n",
        "\n"
      ],
      "metadata": {
        "id": "5mSGLDl1T4TC"
      }
    },
    {
      "cell_type": "code",
      "source": [
        "print(\"Accuracy: \"+str(accuracy_score(test_y, y_pred)))\n",
        "print('\\n')\n",
        "print(classification_report(test_y, y_pred))"
      ],
      "metadata": {
        "colab": {
          "base_uri": "https://localhost:8080/"
        },
        "id": "KvHJ-0bK2tI1",
        "outputId": "da8c1947-10e0-4448-f2b6-1a32b8906fa5"
      },
      "execution_count": null,
      "outputs": [
        {
          "output_type": "stream",
          "name": "stdout",
          "text": [
            "Accuracy: 0.8627450980392157\n",
            "\n",
            "\n",
            "              precision    recall  f1-score   support\n",
            "\n",
            "         0.0       0.94      0.74      0.83        23\n",
            "         1.0       0.82      0.96      0.89        28\n",
            "\n",
            "    accuracy                           0.86        51\n",
            "   macro avg       0.88      0.85      0.86        51\n",
            "weighted avg       0.88      0.86      0.86        51\n",
            "\n"
          ]
        }
      ]
    },
    {
      "cell_type": "markdown",
      "source": [
        "\n",
        "\n",
        "---\n",
        "\n",
        "\n",
        "\n"
      ],
      "metadata": {
        "id": "E3M6JKjSVsds"
      }
    },
    {
      "cell_type": "markdown",
      "source": [
        "> **cm** = confusion_matrix(test_y, y_pred): calculates the confusion matrix by comparing the true labels (test_y) with the predicted labels (y_pred) using the confusion_matrix() function\n",
        ">> The confusion matrix is a square matrix that represents the performance of a classification model by showing the counts of true positive, true negative, false positive, and false negative predictions.\n",
        "\n",
        "> **sns.heatmap(...)**: creates a heatmap visualization of the confusion matrix using the heatmap() function from the seaborn library. The heatmap() function takes several arguments to customize the appearance of the heatmap:\n",
        "\n",
        ">> **cm**: The confusion matrix array.\n",
        "\n",
        ">> **annot=True**: This parameter adds the numeric values of the confusion matrix to the heatmap cells.\n",
        "\n",
        ">> **cmap=\"gray\"**: This parameter sets the color map of the heatmap to \"gray\" to indicate different values.\n",
        "\n",
        ">> **fmt=\"d\"**: This parameter specifies the format of the values in the heatmap cells as integers.\n",
        "\n",
        ">> **xticklabels=[\"Class 0\", \"Class 1\"]**: This parameter sets the labels for the x-axis ticks of the heatmap.\n",
        "\n",
        "\n",
        ">> **yticklabels=[\"Class 0\", \"Class 1\"]**: This parameter sets the labels for the y-axis ticks of the heatmap.\n"
      ],
      "metadata": {
        "id": "x0H7bYJaUfbg"
      }
    },
    {
      "cell_type": "code",
      "source": [
        "import seaborn as sns\n",
        "cm = confusion_matrix(test_y, y_pred)\n",
        "# Visualize the confusion matrix using a heatmap\n",
        "sns.heatmap(cm, annot=True, cmap=\"gray\", fmt=\"d\", xticklabels=[\"Class 0\", \"Class 1\"], yticklabels=[\"Class 0\", \"Class 1\"])"
      ],
      "metadata": {
        "colab": {
          "base_uri": "https://localhost:8080/",
          "height": 445
        },
        "id": "lm6w_d0n8sU4",
        "outputId": "e9ea646e-3f0a-4a43-86b5-0546fa5dc178"
      },
      "execution_count": null,
      "outputs": [
        {
          "output_type": "execute_result",
          "data": {
            "text/plain": [
              "<Axes: >"
            ]
          },
          "metadata": {},
          "execution_count": 47
        },
        {
          "output_type": "display_data",
          "data": {
            "text/plain": [
              "<Figure size 640x480 with 2 Axes>"
            ],
            "image/png": "[encoded data removed]"
          },
          "metadata": {}
        }
      ]
    },
    {
      "cell_type": "markdown",
      "source": [
        "The color intensity or shading in the heatmap cells represent the magnitude of the counts"
      ],
      "metadata": {
        "id": "ddAsD2QnV1P5"
      }
    },
    {
      "cell_type": "markdown",
      "source": [
        "## **Histogram features** \n",
        "\n",
        "---\n",
        "\n",
        "In image processing, a histogram feature refers to the representation of an image based on its histogram. Instead of using the raw pixel values of an image, the histogram feature summarizes the distribution of pixel intensities in the image.\n",
        "\n",
        "A histogram feature vector captures the frequency or occurrence of different intensity values in the image. Each bin in the histogram represents a range of intensity values, and the height or value of each bin corresponds to the number of pixels in the image that fall within that intensity range.\n",
        "\n",
        "Histogram features are commonly used in various image analysis tasks, such as image classification, object recognition, and image retrieval. They provide a concise representation of an image's intensity distribution and can capture important characteristics or patterns that are relevant for specific tasks.\n",
        "\n",
        "Here's a general outline of how histogram features are computed:\n",
        "1. Convert the image to grayscale if it is not already in grayscale.\n",
        "2. Divide the intensity range (e.g., 0-255) into a fixed number of bins or discrete intervals.\n",
        "3. Count the number of pixels that fall into each intensity bin.\n",
        "4. Normalize the histogram by dividing each bin count by the total number of pixels in the image (optional).\n",
        "5. Represent the histogram as a feature vector. \n",
        "\n",
        "The resulting feature vector, often referred to as a histogram descriptor, can be used as input to various machine learning algorithms or compared to other image histograms for similarity or dissimilarity measurements.\n",
        "\n",
        "Different variations and extensions of histogram features exist, such as color histograms for color images, multi-dimensional histograms to capture multiple image properties simultaneously (e.g., color and texture), and histogram-based techniques for local image descriptors like the Histogram of Oriented Gradients (HOG).\n",
        "\n",
        "By analyzing and comparing histogram features, it becomes possible to quantify and identify differences or similarities between images, enabling various image processing and computer vision applications."
      ],
      "metadata": {
        "id": "iB3bhD-_iGxV"
      }
    },
    {
      "cell_type": "code",
      "source": [
        "from scipy import misc\n",
        "X_data =[]\n",
        "for file in yes_values:\n",
        "    #face = misc.imread('../input/brain_tumor_dataset/yes/'+file)\n",
        "    img = cv2.imread('/content/drive/MyDrive/brain_tumor1_dataset/yes/'+file)\n",
        "    face = cv2.resize(img, (32, 32) )\n",
        "    (b, g, r)=cv2.split(face) \n",
        "    img=cv2.merge([r,g,b])\n",
        "    X_data.append(img)"
      ],
      "metadata": {
        "id": "3dXEKIbVqaeP"
      },
      "execution_count": null,
      "outputs": []
    },
    {
      "cell_type": "markdown",
      "source": [
        "\n",
        "\n",
        "> **X_data**: initializes an empty list to store the processed image data.\n",
        "\n",
        "> Looping through yes_values (images with brain tumor): For each file name in yes_values, it reads the corresponding image using cv2.imread()\n",
        "\n",
        "> then, the image is resized to a fixed size of 32x32 pixels using cv2.resize() \n",
        "\n",
        "> The image channels (BGR) are split using cv2.split(), resulting in separate arrays for each channel.\n",
        "\n",
        "> The channels are then merged back together in RGB order using cv2.merge() to convert the image to RGB format.\n",
        "\n",
        "> then, The processed image is appended to the **X_data** list\n",
        "\n",
        "\n"
      ],
      "metadata": {
        "id": "TAxsDOhEWMiJ"
      }
    },
    {
      "cell_type": "code",
      "source": [
        "for file in no_values:\n",
        "    #face = misc.imread('../input/brain_tumor_dataset/yes/'+file)\n",
        "    img = cv2.imread('/content/drive/MyDrive/brain_tumor1_dataset/no/'+file)\n",
        "    face = cv2.resize(img, (32, 32) )\n",
        "    (b, g, r)=cv2.split(face) \n",
        "    img=cv2.merge([r,g,b])\n",
        "    X_data.append(img)"
      ],
      "metadata": {
        "id": "dcI9UyKrqZ1X"
      },
      "execution_count": null,
      "outputs": []
    },
    {
      "cell_type": "markdown",
      "source": [
        "> Looping through no_values (images without brain tumor):\n",
        "\n",
        "> Similar to the previous loop, it reads, resizes, splits, and merges each image.\n",
        "\n",
        "> The processed image is also appended to the X_data list."
      ],
      "metadata": {
        "id": "Y22xWcRgWOFS"
      }
    },
    {
      "cell_type": "code",
      "source": [
        "target_x=np.full(len(yes),1)\n",
        "target_y=np.full(len(no),0)\n",
        "data_target=np.concatenate([target_x,target_y])\n",
        "len(data_target)==len(target_x)+len(target_y)"
      ],
      "metadata": {
        "id": "tbDKsHr0q2O1"
      },
      "execution_count": null,
      "outputs": []
    },
    {
      "cell_type": "markdown",
      "source": [
        "Creating target labels for the data, initializes :\n",
        "\n",
        "\n",
        "> **target_x** as an array of ones with the length equal to (1) of files in the 'yes' directory (indicating brain tumor)\n",
        "\n",
        "\n",
        "\n",
        "> **target_y** as an array of (0) with the length equal to the number of files in the 'no' directory (indicating no brain tumor).  \n",
        "\n",
        "\n",
        "> **data_target** target_x and target_y combined using np.concatenate(), which represents the target labels for the classification task. then, verifies whether the length of data_target is equal to the sum of the lengths of target_x and target_y. to ensure that the target labels have been created correctly.\n",
        "\n"
      ],
      "metadata": {
        "id": "QJoOuLtgWPeC"
      }
    },
    {
      "cell_type": "code",
      "source": [
        "len(X_data)==len(data)==len(data_target)"
      ],
      "metadata": {
        "id": "VSUx1M6uquMS"
      },
      "execution_count": null,
      "outputs": []
    },
    {
      "cell_type": "markdown",
      "source": [
        "> checks lenght"
      ],
      "metadata": {
        "id": "-QjQMAzCXZWM"
      }
    },
    {
      "cell_type": "code",
      "source": [
        "len(X_data)==len(data)==len(data_target)"
      ],
      "metadata": {
        "id": "6iflYcIzquBO"
      },
      "execution_count": null,
      "outputs": []
    },
    {
      "cell_type": "markdown",
      "source": [
        " > this section calculates the histogram features for the images in X_data, It normalizes the histograms and stores the resulting features in the hist_features list."
      ],
      "metadata": {
        "id": "txZxPKOsXsJH"
      }
    },
    {
      "cell_type": "code",
      "source": [
        "hist_features = []\n",
        "for img in X_data:\n",
        "    if len(img.shape) == 3:  # Color image (RGB)\n",
        "        # Convert the image to grayscale\n",
        "        gray = cv2.cvtColor(img, cv2.COLOR_RGB2GRAY)\n",
        "\n",
        "        # Calculate the histogram of the grayscale image\n",
        "        hist, _ = np.histogram(gray.ravel(), bins=256, range=(0, 255))\n",
        "\n",
        "    elif len(img.shape) == 2:  # Grayscale image\n",
        "        # Calculate the histogram of the grayscale image\n",
        "        hist, _ = np.histogram(img.ravel(), bins=256, range=(0, 255))\n",
        "\n",
        "    else:  # Other types of images (e.g., multi-spectral)\n",
        "        raise ValueError('Unsupported image shape:', img.shape)\n",
        "\n",
        "    # Normalize the histogram to sum to one\n",
        "    hist = hist / np.sum(hist)\n",
        "\n",
        "    # Append the histogram features to the list\n",
        "    hist_features.append(hist)\n",
        "\n",
        "# Verify the shape of the histogram features\n",
        "for i, features in enumerate(hist_features):\n",
        "    print(f\"Image {i+1} histogram features shape:\", features.shape)"
      ],
      "metadata": {
        "colab": {
          "base_uri": "https://localhost:8080/"
        },
        "id": "bZf0m2avS2aM",
        "outputId": "c41bb9ee-2980-47dc-aa17-0045e76df288"
      },
      "execution_count": null,
      "outputs": [
        {
          "output_type": "stream",
          "name": "stdout",
          "text": [
            "Image 1 histogram features shape: (256,)\n",
            "Image 2 histogram features shape: (256,)\n",
            "Image 3 histogram features shape: (256,)\n",
            "Image 4 histogram features shape: (256,)\n",
            "Image 5 histogram features shape: (256,)\n",
            "Image 6 histogram features shape: (256,)\n",
            "Image 7 histogram features shape: (256,)\n",
            "Image 8 histogram features shape: (256,)\n",
            "Image 9 histogram features shape: (256,)\n",
            "Image 10 histogram features shape: (256,)\n",
            "Image 11 histogram features shape: (256,)\n",
            "Image 12 histogram features shape: (256,)\n",
            "Image 13 histogram features shape: (256,)\n",
            "Image 14 histogram features shape: (256,)\n",
            "Image 15 histogram features shape: (256,)\n",
            "Image 16 histogram features shape: (256,)\n",
            "Image 17 histogram features shape: (256,)\n",
            "Image 18 histogram features shape: (256,)\n",
            "Image 19 histogram features shape: (256,)\n",
            "Image 20 histogram features shape: (256,)\n",
            "Image 21 histogram features shape: (256,)\n",
            "Image 22 histogram features shape: (256,)\n",
            "Image 23 histogram features shape: (256,)\n",
            "Image 24 histogram features shape: (256,)\n",
            "Image 25 histogram features shape: (256,)\n",
            "Image 26 histogram features shape: (256,)\n",
            "Image 27 histogram features shape: (256,)\n",
            "Image 28 histogram features shape: (256,)\n",
            "Image 29 histogram features shape: (256,)\n",
            "Image 30 histogram features shape: (256,)\n",
            "Image 31 histogram features shape: (256,)\n",
            "Image 32 histogram features shape: (256,)\n",
            "Image 33 histogram features shape: (256,)\n",
            "Image 34 histogram features shape: (256,)\n",
            "Image 35 histogram features shape: (256,)\n",
            "Image 36 histogram features shape: (256,)\n",
            "Image 37 histogram features shape: (256,)\n",
            "Image 38 histogram features shape: (256,)\n",
            "Image 39 histogram features shape: (256,)\n",
            "Image 40 histogram features shape: (256,)\n",
            "Image 41 histogram features shape: (256,)\n",
            "Image 42 histogram features shape: (256,)\n",
            "Image 43 histogram features shape: (256,)\n",
            "Image 44 histogram features shape: (256,)\n",
            "Image 45 histogram features shape: (256,)\n",
            "Image 46 histogram features shape: (256,)\n",
            "Image 47 histogram features shape: (256,)\n",
            "Image 48 histogram features shape: (256,)\n",
            "Image 49 histogram features shape: (256,)\n",
            "Image 50 histogram features shape: (256,)\n",
            "Image 51 histogram features shape: (256,)\n",
            "Image 52 histogram features shape: (256,)\n",
            "Image 53 histogram features shape: (256,)\n",
            "Image 54 histogram features shape: (256,)\n",
            "Image 55 histogram features shape: (256,)\n",
            "Image 56 histogram features shape: (256,)\n",
            "Image 57 histogram features shape: (256,)\n",
            "Image 58 histogram features shape: (256,)\n",
            "Image 59 histogram features shape: (256,)\n",
            "Image 60 histogram features shape: (256,)\n",
            "Image 61 histogram features shape: (256,)\n",
            "Image 62 histogram features shape: (256,)\n",
            "Image 63 histogram features shape: (256,)\n",
            "Image 64 histogram features shape: (256,)\n",
            "Image 65 histogram features shape: (256,)\n",
            "Image 66 histogram features shape: (256,)\n",
            "Image 67 histogram features shape: (256,)\n",
            "Image 68 histogram features shape: (256,)\n",
            "Image 69 histogram features shape: (256,)\n",
            "Image 70 histogram features shape: (256,)\n",
            "Image 71 histogram features shape: (256,)\n",
            "Image 72 histogram features shape: (256,)\n",
            "Image 73 histogram features shape: (256,)\n",
            "Image 74 histogram features shape: (256,)\n",
            "Image 75 histogram features shape: (256,)\n",
            "Image 76 histogram features shape: (256,)\n",
            "Image 77 histogram features shape: (256,)\n",
            "Image 78 histogram features shape: (256,)\n",
            "Image 79 histogram features shape: (256,)\n",
            "Image 80 histogram features shape: (256,)\n",
            "Image 81 histogram features shape: (256,)\n",
            "Image 82 histogram features shape: (256,)\n",
            "Image 83 histogram features shape: (256,)\n",
            "Image 84 histogram features shape: (256,)\n",
            "Image 85 histogram features shape: (256,)\n",
            "Image 86 histogram features shape: (256,)\n",
            "Image 87 histogram features shape: (256,)\n",
            "Image 88 histogram features shape: (256,)\n",
            "Image 89 histogram features shape: (256,)\n",
            "Image 90 histogram features shape: (256,)\n",
            "Image 91 histogram features shape: (256,)\n",
            "Image 92 histogram features shape: (256,)\n",
            "Image 93 histogram features shape: (256,)\n",
            "Image 94 histogram features shape: (256,)\n",
            "Image 95 histogram features shape: (256,)\n",
            "Image 96 histogram features shape: (256,)\n",
            "Image 97 histogram features shape: (256,)\n",
            "Image 98 histogram features shape: (256,)\n",
            "Image 99 histogram features shape: (256,)\n",
            "Image 100 histogram features shape: (256,)\n",
            "Image 101 histogram features shape: (256,)\n",
            "Image 102 histogram features shape: (256,)\n",
            "Image 103 histogram features shape: (256,)\n",
            "Image 104 histogram features shape: (256,)\n",
            "Image 105 histogram features shape: (256,)\n",
            "Image 106 histogram features shape: (256,)\n",
            "Image 107 histogram features shape: (256,)\n",
            "Image 108 histogram features shape: (256,)\n",
            "Image 109 histogram features shape: (256,)\n",
            "Image 110 histogram features shape: (256,)\n",
            "Image 111 histogram features shape: (256,)\n",
            "Image 112 histogram features shape: (256,)\n",
            "Image 113 histogram features shape: (256,)\n",
            "Image 114 histogram features shape: (256,)\n",
            "Image 115 histogram features shape: (256,)\n",
            "Image 116 histogram features shape: (256,)\n",
            "Image 117 histogram features shape: (256,)\n",
            "Image 118 histogram features shape: (256,)\n",
            "Image 119 histogram features shape: (256,)\n",
            "Image 120 histogram features shape: (256,)\n",
            "Image 121 histogram features shape: (256,)\n",
            "Image 122 histogram features shape: (256,)\n",
            "Image 123 histogram features shape: (256,)\n",
            "Image 124 histogram features shape: (256,)\n",
            "Image 125 histogram features shape: (256,)\n",
            "Image 126 histogram features shape: (256,)\n",
            "Image 127 histogram features shape: (256,)\n",
            "Image 128 histogram features shape: (256,)\n",
            "Image 129 histogram features shape: (256,)\n",
            "Image 130 histogram features shape: (256,)\n",
            "Image 131 histogram features shape: (256,)\n",
            "Image 132 histogram features shape: (256,)\n",
            "Image 133 histogram features shape: (256,)\n",
            "Image 134 histogram features shape: (256,)\n",
            "Image 135 histogram features shape: (256,)\n",
            "Image 136 histogram features shape: (256,)\n",
            "Image 137 histogram features shape: (256,)\n",
            "Image 138 histogram features shape: (256,)\n",
            "Image 139 histogram features shape: (256,)\n",
            "Image 140 histogram features shape: (256,)\n",
            "Image 141 histogram features shape: (256,)\n",
            "Image 142 histogram features shape: (256,)\n",
            "Image 143 histogram features shape: (256,)\n",
            "Image 144 histogram features shape: (256,)\n",
            "Image 145 histogram features shape: (256,)\n",
            "Image 146 histogram features shape: (256,)\n",
            "Image 147 histogram features shape: (256,)\n",
            "Image 148 histogram features shape: (256,)\n",
            "Image 149 histogram features shape: (256,)\n",
            "Image 150 histogram features shape: (256,)\n",
            "Image 151 histogram features shape: (256,)\n",
            "Image 152 histogram features shape: (256,)\n",
            "Image 153 histogram features shape: (256,)\n",
            "Image 154 histogram features shape: (256,)\n",
            "Image 155 histogram features shape: (256,)\n",
            "Image 156 histogram features shape: (256,)\n",
            "Image 157 histogram features shape: (256,)\n",
            "Image 158 histogram features shape: (256,)\n",
            "Image 159 histogram features shape: (256,)\n",
            "Image 160 histogram features shape: (256,)\n",
            "Image 161 histogram features shape: (256,)\n",
            "Image 162 histogram features shape: (256,)\n",
            "Image 163 histogram features shape: (256,)\n",
            "Image 164 histogram features shape: (256,)\n",
            "Image 165 histogram features shape: (256,)\n",
            "Image 166 histogram features shape: (256,)\n",
            "Image 167 histogram features shape: (256,)\n",
            "Image 168 histogram features shape: (256,)\n",
            "Image 169 histogram features shape: (256,)\n",
            "Image 170 histogram features shape: (256,)\n",
            "Image 171 histogram features shape: (256,)\n",
            "Image 172 histogram features shape: (256,)\n",
            "Image 173 histogram features shape: (256,)\n",
            "Image 174 histogram features shape: (256,)\n",
            "Image 175 histogram features shape: (256,)\n",
            "Image 176 histogram features shape: (256,)\n",
            "Image 177 histogram features shape: (256,)\n",
            "Image 178 histogram features shape: (256,)\n",
            "Image 179 histogram features shape: (256,)\n",
            "Image 180 histogram features shape: (256,)\n",
            "Image 181 histogram features shape: (256,)\n",
            "Image 182 histogram features shape: (256,)\n",
            "Image 183 histogram features shape: (256,)\n",
            "Image 184 histogram features shape: (256,)\n",
            "Image 185 histogram features shape: (256,)\n",
            "Image 186 histogram features shape: (256,)\n",
            "Image 187 histogram features shape: (256,)\n",
            "Image 188 histogram features shape: (256,)\n",
            "Image 189 histogram features shape: (256,)\n",
            "Image 190 histogram features shape: (256,)\n",
            "Image 191 histogram features shape: (256,)\n",
            "Image 192 histogram features shape: (256,)\n",
            "Image 193 histogram features shape: (256,)\n",
            "Image 194 histogram features shape: (256,)\n",
            "Image 195 histogram features shape: (256,)\n",
            "Image 196 histogram features shape: (256,)\n",
            "Image 197 histogram features shape: (256,)\n",
            "Image 198 histogram features shape: (256,)\n",
            "Image 199 histogram features shape: (256,)\n",
            "Image 200 histogram features shape: (256,)\n",
            "Image 201 histogram features shape: (256,)\n",
            "Image 202 histogram features shape: (256,)\n",
            "Image 203 histogram features shape: (256,)\n",
            "Image 204 histogram features shape: (256,)\n",
            "Image 205 histogram features shape: (256,)\n",
            "Image 206 histogram features shape: (256,)\n",
            "Image 207 histogram features shape: (256,)\n",
            "Image 208 histogram features shape: (256,)\n",
            "Image 209 histogram features shape: (256,)\n",
            "Image 210 histogram features shape: (256,)\n",
            "Image 211 histogram features shape: (256,)\n",
            "Image 212 histogram features shape: (256,)\n",
            "Image 213 histogram features shape: (256,)\n",
            "Image 214 histogram features shape: (256,)\n",
            "Image 215 histogram features shape: (256,)\n",
            "Image 216 histogram features shape: (256,)\n",
            "Image 217 histogram features shape: (256,)\n",
            "Image 218 histogram features shape: (256,)\n",
            "Image 219 histogram features shape: (256,)\n",
            "Image 220 histogram features shape: (256,)\n",
            "Image 221 histogram features shape: (256,)\n",
            "Image 222 histogram features shape: (256,)\n",
            "Image 223 histogram features shape: (256,)\n",
            "Image 224 histogram features shape: (256,)\n",
            "Image 225 histogram features shape: (256,)\n",
            "Image 226 histogram features shape: (256,)\n",
            "Image 227 histogram features shape: (256,)\n",
            "Image 228 histogram features shape: (256,)\n",
            "Image 229 histogram features shape: (256,)\n",
            "Image 230 histogram features shape: (256,)\n",
            "Image 231 histogram features shape: (256,)\n",
            "Image 232 histogram features shape: (256,)\n",
            "Image 233 histogram features shape: (256,)\n",
            "Image 234 histogram features shape: (256,)\n",
            "Image 235 histogram features shape: (256,)\n",
            "Image 236 histogram features shape: (256,)\n",
            "Image 237 histogram features shape: (256,)\n",
            "Image 238 histogram features shape: (256,)\n",
            "Image 239 histogram features shape: (256,)\n",
            "Image 240 histogram features shape: (256,)\n",
            "Image 241 histogram features shape: (256,)\n",
            "Image 242 histogram features shape: (256,)\n",
            "Image 243 histogram features shape: (256,)\n",
            "Image 244 histogram features shape: (256,)\n",
            "Image 245 histogram features shape: (256,)\n",
            "Image 246 histogram features shape: (256,)\n",
            "Image 247 histogram features shape: (256,)\n",
            "Image 248 histogram features shape: (256,)\n",
            "Image 249 histogram features shape: (256,)\n",
            "Image 250 histogram features shape: (256,)\n",
            "Image 251 histogram features shape: (256,)\n",
            "Image 252 histogram features shape: (256,)\n",
            "Image 253 histogram features shape: (256,)\n"
          ]
        }
      ]
    },
    {
      "cell_type": "markdown",
      "source": [
        "\n",
        "\n",
        "---\n",
        "\n",
        "\n",
        "\n",
        "> **plt.hist(X_data[0].ravel(), bins=256, range=(0, 255))**: Creates a histogram using plt.hist() from the matplotlib.pyplot library. It takes the flattened version of the first image (X_data[0].ravel()) as input and specifies the number of bins (256) and the value range (0 to 255) for the histogram.\n",
        "\n",
        "> **plt.title('Histogram of Image 1')**: Sets the title of the plot as \"Histogram of Image 1\".\n",
        "\n",
        "> **plt.xlabel('Pixel Intensity')*: Sets the label for the x-axis as \"Pixel Intensity\".\n",
        "\n",
        "> **plt.ylabel('Frequency')*: Sets the label for the y-axis as \"Frequency\".\n",
        "\n",
        "> **plt.show()** : Displays the histogram plot.\n",
        "\n",
        " this section, visualizes the histogram of the first image in X_data using a histogram plot. "
      ],
      "metadata": {
        "id": "TyM1f0qEYsYQ"
      }
    },
    {
      "cell_type": "code",
      "source": [
        "import matplotlib.pyplot as plt\n",
        "\n",
        "# Plot the histogram of the first image\n",
        "plt.hist(X_data[0].ravel(), bins=256, range=(0, 255))\n",
        "plt.title('Histogram of Image 1')\n",
        "plt.xlabel('Pixel Intensity')\n",
        "plt.ylabel('Frequency')\n",
        "plt.show()"
      ],
      "metadata": {
        "colab": {
          "base_uri": "https://localhost:8080/",
          "height": 471
        },
        "id": "VtSnwylETJ2l",
        "outputId": "66c234ae-71fb-472c-dae6-17f2591e97ca"
      },
      "execution_count": null,
      "outputs": [
        {
          "output_type": "display_data",
          "data": {
            "text/plain": [
              "<Figure size 640x480 with 1 Axes>"
            ],
            "image/png": "[encoded data removed]"
          },
          "metadata": {}
        }
      ]
    },
    {
      "cell_type": "markdown",
      "source": [
        "> **data_target = data_target.reshape(-1,1)** reshapes the data_target array by adding an additional dimension along the second axis, effectively converting it from a 1D array to a 2D column vector. \n",
        "\n",
        "> The reshape() function is used with the parameter -1 to automatically determine the size of the reshaped dimension based on the length of the array."
      ],
      "metadata": {
        "id": "_nNKPg1MZ4-E"
      }
    },
    {
      "cell_type": "code",
      "source": [
        "data_target = data_target.reshape(-1,1)"
      ],
      "metadata": {
        "id": "8hrMYpFOVvKU"
      },
      "execution_count": null,
      "outputs": []
    },
    {
      "cell_type": "markdown",
      "source": [
        "> **hist_features.shape** : return the shape of the hist_features"
      ],
      "metadata": {
        "id": "Am71nBtIaKAc"
      }
    },
    {
      "cell_type": "code",
      "source": [
        "hist_features.shape"
      ],
      "metadata": {
        "colab": {
          "base_uri": "https://localhost:8080/"
        },
        "id": "FdaMGzfFVnuQ",
        "outputId": "bb569de8-4947-4b64-e7fc-35fc04499350"
      },
      "execution_count": null,
      "outputs": [
        {
          "output_type": "execute_result",
          "data": {
            "text/plain": [
              "(253, 256)"
            ]
          },
          "metadata": {},
          "execution_count": 53
        }
      ]
    },
    {
      "cell_type": "code",
      "source": [
        "clf = svm.SVC() # for classification tasks using Support Vector Machines\n",
        "\n",
        "\n",
        "hist_features = np.array(hist_features)\n",
        "data_target = np.array(data_target)\n",
        "\n",
        "\n",
        "hist_features = hist_features.reshape(hist_features.shape[0], -1)\n",
        "\n",
        "# Concatenate the features and target arrays horizontally\n",
        "data_frame = np.hstack((hist_features, data_target))\n",
        "\n",
        "# Shuffle the data_frame array\n",
        "np.random.shuffle(data_frame)\n",
        "\n",
        "# Split the data_frame array into training and testing arrays\n",
        "train_data, test_data = train_test_split(data_frame, test_size=0.2, random_state=42)\n",
        "\n",
        "\n",
        "train_X, train_y = train_data[:, :-1], train_data[:, -1]\n",
        "test_X, test_y = test_data[:, :-1], test_data[:, -1]\n",
        "\n",
        "# Train the SVM classifier on the training data\n",
        "clf.fit(train_X, train_y)\n",
        "\n",
        "# Evaluate the SVM classifier on the testing data\n",
        "accuracy = clf.score(test_X, test_y)\n",
        "print(\"Accuracy:\", accuracy)"
      ],
      "metadata": {
        "colab": {
          "base_uri": "https://localhost:8080/"
        },
        "id": "AawWbS5yUsF8",
        "outputId": "04444b26-a4a0-45d5-8773-c6726af23273"
      },
      "execution_count": null,
      "outputs": [
        {
          "output_type": "stream",
          "name": "stdout",
          "text": [
            "Accuracy: 0.8235294117647058\n"
          ]
        }
      ]
    },
    {
      "cell_type": "markdown",
      "source": [
        "> **hist_features = np.array(hist_features)**: Converts the hist_features list (which contains the histogram features of the images) into a NumPy array for easier manipulation and compatibility with the SVM model.\n",
        "\n",
        "> **data_target = np.array(data_target)**: Converts the data_target list (which contains the target labels for the images) into a NumPy array.\n",
        "\n",
        "> **hist_features = hist_features.reshape(hist_features.shape[0], -1)**: Reshapes the hist_features array by adding an additional dimension along the second axis. This step is done to ensure that the feature array has the correct shape for concatenation with the target array. The reshaping is done based on the number of images (hist_features.shape[0]) and by specifying -1 for the second dimension, allowing NumPy to automatically determine the size based on the length of the array.\n",
        "\n",
        "> ...\n",
        "\n",
        "\n",
        "> **train_data, test_data = train_test_split(data_frame, test_size=0.2, random_state=42)** : Splits the data_frame array into training and testing datasets using the train_test_split() function. The testing dataset will be 20% of the total data, and a random state of 42 is set for reproducibility.\n",
        "\n",
        "> **train_X, train_y = train_data[:, :-1], train_data[:, -1]**: Splits the training data into input features (train_X) and target values (train_y) by slicing the columns of the train_data array. The [:, :-1] indexing selects all columns except the last one, which corresponds to the target values. The [:, -1] indexing selects only the last column, which contains the target values.\n",
        "\n",
        "> **test_X, test_y = test_data[:, :-1], test_data[:, -1]**: Splits the testing data into input features (test_X) and target values (test_y) using a similar slicing operation as in the previous step.\n",
        "\n",
        "\n",
        "this code, trains an SVM classifier using histogram features extracted from images. It then evaluates the classifier's accuracy on a separate set of testing images."
      ],
      "metadata": {
        "id": "063MnIx_bB22"
      }
    },
    {
      "cell_type": "code",
      "source": [
        "y_pred = clf.predict(test_X)"
      ],
      "metadata": {
        "id": "mpZla97iUrzJ"
      },
      "execution_count": null,
      "outputs": []
    },
    {
      "cell_type": "markdown",
      "source": [
        "> **y_pred** : predicts the target labels for the testing data (test_X) using the trained SVM classifier (clf).\n",
        "\n",
        "This code evaluates the performance of the SVM classifier by calculating the accuracy score and generating a classification report that includes metrics such as precision, recall, F1-score, and support for each class in the testing data."
      ],
      "metadata": {
        "id": "8nAon45sdql_"
      }
    },
    {
      "cell_type": "code",
      "source": [
        "print(\"Accuracy: \"+str(accuracy_score(test_y, y_pred)))\n",
        "print('\\n')\n",
        "print(classification_report(test_y, y_pred))"
      ],
      "metadata": {
        "colab": {
          "base_uri": "https://localhost:8080/"
        },
        "id": "XwSi_wXrUrrm",
        "outputId": "ac10ed41-1bfb-4394-fcbf-2b7166d7a3e1"
      },
      "execution_count": null,
      "outputs": [
        {
          "output_type": "stream",
          "name": "stdout",
          "text": [
            "Accuracy: 0.8235294117647058\n",
            "\n",
            "\n",
            "              precision    recall  f1-score   support\n",
            "\n",
            "         0.0       0.82      0.56      0.67        16\n",
            "         1.0       0.82      0.94      0.88        35\n",
            "\n",
            "    accuracy                           0.82        51\n",
            "   macro avg       0.82      0.75      0.77        51\n",
            "weighted avg       0.82      0.82      0.81        51\n",
            "\n"
          ]
        }
      ]
    },
    {
      "cell_type": "code",
      "source": [
        "import seaborn as sns\n",
        "cm = confusion_matrix(test_y, y_pred)\n",
        "# Visualize the confusion matrix using a heatmap\n",
        "sns.heatmap(cm, annot=True, cmap=\"gray\", fmt=\"d\", xticklabels=[\"Class 0\", \"Class 1\"], yticklabels=[\"Class 0\", \"Class 1\"])"
      ],
      "metadata": {
        "id": "JvvdNgXqiCNg"
      },
      "execution_count": null,
      "outputs": []
    },
    {
      "cell_type": "markdown",
      "source": [
        "> **cm** = confusion_matrix(test_y, y_pred): calculates the confusion matrix by comparing the true labels (test_y) with the predicted labels (y_pred) using the confusion_matrix() function\n",
        ">> The confusion matrix is a square matrix that represents the performance of a classification model by showing the counts of true positive, true negative, false positive, and false negative predictions.\n",
        "\n",
        "> **sns.heatmap(...)**: creates a heatmap visualization of the confusion matrix using the heatmap() function from the seaborn library. The heatmap() function takes several arguments to customize the appearance of the heatmap:\n",
        "\n",
        ">> **cm**: The confusion matrix array.\n",
        "\n",
        ">> **annot=True**: This parameter adds the numeric values of the confusion matrix to the heatmap cells.\n",
        "\n",
        ">> **cmap=\"gray\"**: This parameter sets the color map of the heatmap to \"gray\" to indicate different values.\n",
        "\n",
        ">> **fmt=\"d\"**: This parameter specifies the format of the values in the heatmap cells as integers.\n",
        "\n",
        ">> **xticklabels=[\"Class 0\", \"Class 1\"]**: This parameter sets the labels for the x-axis ticks of the heatmap.\n",
        "\n",
        "\n",
        ">> **yticklabels=[\"Class 0\", \"Class 1\"]**: This parameter sets the labels for the y-axis ticks of the heatmap."
      ],
      "metadata": {
        "id": "c8ND2uwfe5-O"
      }
    },
    {
      "cell_type": "markdown",
      "source": [
        "## Combine HOG and Histogram features \n",
        "\n",
        "---\n",
        "\n"
      ],
      "metadata": {
        "id": "7PxjNmK9mXY3"
      }
    },
    {
      "cell_type": "code",
      "source": [
        "import pandas as pd\n",
        "X_train1= pd.DataFrame(hist_features)"
      ],
      "metadata": {
        "id": "sv_-IfNEmt4r"
      },
      "execution_count": null,
      "outputs": []
    },
    {
      "cell_type": "markdown",
      "source": [
        "> **X_train1** : creates a pandas DataFrame object X_train1 from the hist_features data. hist_features is a list of lists representing a set of histogram features. Each row in X_train1 represents a sample, and each column represents a feature from hist_features."
      ],
      "metadata": {
        "id": "rNd_DHN-E9t_"
      }
    },
    {
      "cell_type": "code",
      "source": [
        "X_train2= pd.DataFrame(hog_features)"
      ],
      "metadata": {
        "id": "DCytvT6SmtyR"
      },
      "execution_count": null,
      "outputs": []
    },
    {
      "cell_type": "markdown",
      "source": [
        "> **X_train2** : This line creates another pandas DataFrame object X_train2 from the hog_features data. Similar to X_train1, hog_features is a list of lists representing a set of HOG (Histogram of Oriented Gradients) features.\n"
      ],
      "metadata": {
        "id": "IBmDm_IpFGWU"
      }
    },
    {
      "cell_type": "code",
      "source": [
        "X_train = pd.concat([X_train1,X_train2], axis=1 , ignore_index=True)"
      ],
      "metadata": {
        "id": "El57jABdmtqI"
      },
      "execution_count": null,
      "outputs": []
    },
    {
      "cell_type": "markdown",
      "source": [
        "\n",
        "\n",
        "\n",
        "\n",
        "\n",
        "\n",
        "\n",
        "\n",
        "\n",
        "> **X_train** : concatenate the hist_features and hog_features data frames into a single data frame X_train. The resulting data frame will have all the features from hist_features and hog_features side by side, allowing them to be used as input features for further analysis or modeling tasks.\n",
        "\n",
        "\n",
        "\n",
        "\n",
        "\n",
        "\n",
        "\n"
      ],
      "metadata": {
        "id": "r8sdLxJGDJZN"
      }
    },
    {
      "cell_type": "code",
      "source": [
        "X_train"
      ],
      "metadata": {
        "colab": {
          "base_uri": "https://localhost:8080/",
          "height": 476
        },
        "id": "5EBMAaRZoeRL",
        "outputId": "571e92fc-a770-4a5d-a0b6-9905f321872a"
      },
      "execution_count": null,
      "outputs": [
        {
          "output_type": "execute_result",
          "data": {
            "text/plain": [
              "          0         1         2         3         4         5         6    \\\n",
              "0    0.246094  0.013672  0.032227  0.019531  0.014648  0.006836  0.005859   \n",
              "1    0.018555  0.018555  0.011719  0.038086  0.063477  0.079102  0.069336   \n",
              "2    0.000000  0.000000  0.000000  0.000977  0.000977  0.005859  0.030273   \n",
              "3    0.023438  0.219727  0.016602  0.014648  0.003906  0.004883  0.002930   \n",
              "4    0.038086  0.070312  0.099609  0.047852  0.031250  0.023438  0.013672   \n",
              "..        ...       ...       ...       ...       ...       ...       ...   \n",
              "248  0.000000  0.000000  0.000000  0.000000  0.000000  0.000977  0.000000   \n",
              "249  0.248047  0.052734  0.050781  0.062500  0.050781  0.029297  0.016602   \n",
              "250  0.004883  0.008789  0.033203  0.140625  0.079102  0.037109  0.014648   \n",
              "251  0.234375  0.027344  0.028320  0.011719  0.051758  0.096680  0.083984   \n",
              "252  0.019531  0.574219  0.013672  0.009766  0.002930  0.003906  0.000977   \n",
              "\n",
              "          7         8         9    ...       374       375       376  \\\n",
              "0    0.002930  0.002930  0.007812  ...  0.021509  0.078472  0.053739   \n",
              "1    0.031250  0.016602  0.006836  ...  0.073760  0.068994  0.089085   \n",
              "2    0.158203  0.028320  0.000977  ...  0.024202  0.005090  0.041335   \n",
              "3    0.000977  0.004883  0.004883  ...  0.076520  0.049435  0.056002   \n",
              "4    0.012695  0.010742  0.006836  ...  0.104377  0.054286  0.086351   \n",
              "..        ...       ...       ...  ...       ...       ...       ...   \n",
              "248  0.000977  0.000000  0.000977  ...  0.085219  0.062772  0.055302   \n",
              "249  0.013672  0.004883  0.002930  ...  0.028096  0.022968  0.027166   \n",
              "250  0.008789  0.008789  0.005859  ...  0.053318  0.021237  0.049485   \n",
              "251  0.030273  0.008789  0.007812  ...  0.019734  0.119362  0.060316   \n",
              "252  0.001953  0.001953  0.001953  ...  0.013922  0.059002  0.006792   \n",
              "\n",
              "          377       378       379       380       381       382       383  \n",
              "0    0.063071  0.071372  0.051428  0.001536  0.010258  0.000000  0.026043  \n",
              "1    0.019498  0.205764  0.059086  0.036914  0.020442  0.002168  0.030211  \n",
              "2    0.329360  0.252497  0.028684  0.033371  0.000000  0.000000  0.008560  \n",
              "3    0.200365  0.225894  0.031689  0.041173  0.002033  0.000441  0.000000  \n",
              "4    0.022794  0.147727  0.048186  0.011759  0.000668  0.054073  0.068916  \n",
              "..        ...       ...       ...       ...       ...       ...       ...  \n",
              "248  0.069493  0.001214  0.059456  0.007873  0.000000  0.000000  0.000000  \n",
              "249  0.046124  0.095835  0.042962  0.001953  0.001220  0.001749  0.000000  \n",
              "250  0.115035  0.175771  0.050811  0.009148  0.000000  0.000900  0.005364  \n",
              "251  0.005746  0.003685  0.035851  0.008397  0.001657  0.000000  0.005483  \n",
              "252  0.010240  0.000000  0.008247  0.001085  0.000000  0.000000  0.000000  \n",
              "\n",
              "[253 rows x 384 columns]"
            ],
            "text/html": [
              "\n",
              "  <div id=\"df-81d66bb5-c720-435b-a91a-93cdf112e1e4\">\n",
              "    <div class=\"colab-df-container\">\n",
              "      <div>\n",
              "<style scoped>\n",
              "    .dataframe tbody tr th:only-of-type {\n",
              "        vertical-align: middle;\n",
              "    }\n",
              "\n",
              "    .dataframe tbody tr th {\n",
              "        vertical-align: top;\n",
              "    }\n",
              "\n",
              "    .dataframe thead th {\n",
              "        text-align: right;\n",
              "    }\n",
              "</style>\n",
              "<table border=\"1\" class=\"dataframe\">\n",
              "  <thead>\n",
              "    <tr style=\"text-align: right;\">\n",
              "      <th></th>\n",
              "      <th>0</th>\n",
              "      <th>1</th>\n",
              "      <th>2</th>\n",
              "      <th>3</th>\n",
              "      <th>4</th>\n",
              "      <th>5</th>\n",
              "      <th>6</th>\n",
              "      <th>7</th>\n",
              "      <th>8</th>\n",
              "      <th>9</th>\n",
              "      <th>...</th>\n",
              "      <th>374</th>\n",
              "      <th>375</th>\n",
              "      <th>376</th>\n",
              "      <th>377</th>\n",
              "      <th>378</th>\n",
              "      <th>379</th>\n",
              "      <th>380</th>\n",
              "      <th>381</th>\n",
              "      <th>382</th>\n",
              "      <th>383</th>\n",
              "    </tr>\n",
              "  </thead>\n",
              "  <tbody>\n",
              "    <tr>\n",
              "      <th>0</th>\n",
              "      <td>0.246094</td>\n",
              "      <td>0.013672</td>\n",
              "      <td>0.032227</td>\n",
              "      <td>0.019531</td>\n",
              "      <td>0.014648</td>\n",
              "      <td>0.006836</td>\n",
              "      <td>0.005859</td>\n",
              "      <td>0.002930</td>\n",
              "      <td>0.002930</td>\n",
              "      <td>0.007812</td>\n",
              "      <td>...</td>\n",
              "      <td>0.021509</td>\n",
              "      <td>0.078472</td>\n",
              "      <td>0.053739</td>\n",
              "      <td>0.063071</td>\n",
              "      <td>0.071372</td>\n",
              "      <td>0.051428</td>\n",
              "      <td>0.001536</td>\n",
              "      <td>0.010258</td>\n",
              "      <td>0.000000</td>\n",
              "      <td>0.026043</td>\n",
              "    </tr>\n",
              "    <tr>\n",
              "      <th>1</th>\n",
              "      <td>0.018555</td>\n",
              "      <td>0.018555</td>\n",
              "      <td>0.011719</td>\n",
              "      <td>0.038086</td>\n",
              "      <td>0.063477</td>\n",
              "      <td>0.079102</td>\n",
              "      <td>0.069336</td>\n",
              "      <td>0.031250</td>\n",
              "      <td>0.016602</td>\n",
              "      <td>0.006836</td>\n",
              "      <td>...</td>\n",
              "      <td>0.073760</td>\n",
              "      <td>0.068994</td>\n",
              "      <td>0.089085</td>\n",
              "      <td>0.019498</td>\n",
              "      <td>0.205764</td>\n",
              "      <td>0.059086</td>\n",
              "      <td>0.036914</td>\n",
              "      <td>0.020442</td>\n",
              "      <td>0.002168</td>\n",
              "      <td>0.030211</td>\n",
              "    </tr>\n",
              "    <tr>\n",
              "      <th>2</th>\n",
              "      <td>0.000000</td>\n",
              "      <td>0.000000</td>\n",
              "      <td>0.000000</td>\n",
              "      <td>0.000977</td>\n",
              "      <td>0.000977</td>\n",
              "      <td>0.005859</td>\n",
              "      <td>0.030273</td>\n",
              "      <td>0.158203</td>\n",
              "      <td>0.028320</td>\n",
              "      <td>0.000977</td>\n",
              "      <td>...</td>\n",
              "      <td>0.024202</td>\n",
              "      <td>0.005090</td>\n",
              "      <td>0.041335</td>\n",
              "      <td>0.329360</td>\n",
              "      <td>0.252497</td>\n",
              "      <td>0.028684</td>\n",
              "      <td>0.033371</td>\n",
              "      <td>0.000000</td>\n",
              "      <td>0.000000</td>\n",
              "      <td>0.008560</td>\n",
              "    </tr>\n",
              "    <tr>\n",
              "      <th>3</th>\n",
              "      <td>0.023438</td>\n",
              "      <td>0.219727</td>\n",
              "      <td>0.016602</td>\n",
              "      <td>0.014648</td>\n",
              "      <td>0.003906</td>\n",
              "      <td>0.004883</td>\n",
              "      <td>0.002930</td>\n",
              "      <td>0.000977</td>\n",
              "      <td>0.004883</td>\n",
              "      <td>0.004883</td>\n",
              "      <td>...</td>\n",
              "      <td>0.076520</td>\n",
              "      <td>0.049435</td>\n",
              "      <td>0.056002</td>\n",
              "      <td>0.200365</td>\n",
              "      <td>0.225894</td>\n",
              "      <td>0.031689</td>\n",
              "      <td>0.041173</td>\n",
              "      <td>0.002033</td>\n",
              "      <td>0.000441</td>\n",
              "      <td>0.000000</td>\n",
              "    </tr>\n",
              "    <tr>\n",
              "      <th>4</th>\n",
              "      <td>0.038086</td>\n",
              "      <td>0.070312</td>\n",
              "      <td>0.099609</td>\n",
              "      <td>0.047852</td>\n",
              "      <td>0.031250</td>\n",
              "      <td>0.023438</td>\n",
              "      <td>0.013672</td>\n",
              "      <td>0.012695</td>\n",
              "      <td>0.010742</td>\n",
              "      <td>0.006836</td>\n",
              "      <td>...</td>\n",
              "      <td>0.104377</td>\n",
              "      <td>0.054286</td>\n",
              "      <td>0.086351</td>\n",
              "      <td>0.022794</td>\n",
              "      <td>0.147727</td>\n",
              "      <td>0.048186</td>\n",
              "      <td>0.011759</td>\n",
              "      <td>0.000668</td>\n",
              "      <td>0.054073</td>\n",
              "      <td>0.068916</td>\n",
              "    </tr>\n",
              "    <tr>\n",
              "      <th>...</th>\n",
              "      <td>...</td>\n",
              "      <td>...</td>\n",
              "      <td>...</td>\n",
              "      <td>...</td>\n",
              "      <td>...</td>\n",
              "      <td>...</td>\n",
              "      <td>...</td>\n",
              "      <td>...</td>\n",
              "      <td>...</td>\n",
              "      <td>...</td>\n",
              "      <td>...</td>\n",
              "      <td>...</td>\n",
              "      <td>...</td>\n",
              "      <td>...</td>\n",
              "      <td>...</td>\n",
              "      <td>...</td>\n",
              "      <td>...</td>\n",
              "      <td>...</td>\n",
              "      <td>...</td>\n",
              "      <td>...</td>\n",
              "      <td>...</td>\n",
              "    </tr>\n",
              "    <tr>\n",
              "      <th>248</th>\n",
              "      <td>0.000000</td>\n",
              "      <td>0.000000</td>\n",
              "      <td>0.000000</td>\n",
              "      <td>0.000000</td>\n",
              "      <td>0.000000</td>\n",
              "      <td>0.000977</td>\n",
              "      <td>0.000000</td>\n",
              "      <td>0.000977</td>\n",
              "      <td>0.000000</td>\n",
              "      <td>0.000977</td>\n",
              "      <td>...</td>\n",
              "      <td>0.085219</td>\n",
              "      <td>0.062772</td>\n",
              "      <td>0.055302</td>\n",
              "      <td>0.069493</td>\n",
              "      <td>0.001214</td>\n",
              "      <td>0.059456</td>\n",
              "      <td>0.007873</td>\n",
              "      <td>0.000000</td>\n",
              "      <td>0.000000</td>\n",
              "      <td>0.000000</td>\n",
              "    </tr>\n",
              "    <tr>\n",
              "      <th>249</th>\n",
              "      <td>0.248047</td>\n",
              "      <td>0.052734</td>\n",
              "      <td>0.050781</td>\n",
              "      <td>0.062500</td>\n",
              "      <td>0.050781</td>\n",
              "      <td>0.029297</td>\n",
              "      <td>0.016602</td>\n",
              "      <td>0.013672</td>\n",
              "      <td>0.004883</td>\n",
              "      <td>0.002930</td>\n",
              "      <td>...</td>\n",
              "      <td>0.028096</td>\n",
              "      <td>0.022968</td>\n",
              "      <td>0.027166</td>\n",
              "      <td>0.046124</td>\n",
              "      <td>0.095835</td>\n",
              "      <td>0.042962</td>\n",
              "      <td>0.001953</td>\n",
              "      <td>0.001220</td>\n",
              "      <td>0.001749</td>\n",
              "      <td>0.000000</td>\n",
              "    </tr>\n",
              "    <tr>\n",
              "      <th>250</th>\n",
              "      <td>0.004883</td>\n",
              "      <td>0.008789</td>\n",
              "      <td>0.033203</td>\n",
              "      <td>0.140625</td>\n",
              "      <td>0.079102</td>\n",
              "      <td>0.037109</td>\n",
              "      <td>0.014648</td>\n",
              "      <td>0.008789</td>\n",
              "      <td>0.008789</td>\n",
              "      <td>0.005859</td>\n",
              "      <td>...</td>\n",
              "      <td>0.053318</td>\n",
              "      <td>0.021237</td>\n",
              "      <td>0.049485</td>\n",
              "      <td>0.115035</td>\n",
              "      <td>0.175771</td>\n",
              "      <td>0.050811</td>\n",
              "      <td>0.009148</td>\n",
              "      <td>0.000000</td>\n",
              "      <td>0.000900</td>\n",
              "      <td>0.005364</td>\n",
              "    </tr>\n",
              "    <tr>\n",
              "      <th>251</th>\n",
              "      <td>0.234375</td>\n",
              "      <td>0.027344</td>\n",
              "      <td>0.028320</td>\n",
              "      <td>0.011719</td>\n",
              "      <td>0.051758</td>\n",
              "      <td>0.096680</td>\n",
              "      <td>0.083984</td>\n",
              "      <td>0.030273</td>\n",
              "      <td>0.008789</td>\n",
              "      <td>0.007812</td>\n",
              "      <td>...</td>\n",
              "      <td>0.019734</td>\n",
              "      <td>0.119362</td>\n",
              "      <td>0.060316</td>\n",
              "      <td>0.005746</td>\n",
              "      <td>0.003685</td>\n",
              "      <td>0.035851</td>\n",
              "      <td>0.008397</td>\n",
              "      <td>0.001657</td>\n",
              "      <td>0.000000</td>\n",
              "      <td>0.005483</td>\n",
              "    </tr>\n",
              "    <tr>\n",
              "      <th>252</th>\n",
              "      <td>0.019531</td>\n",
              "      <td>0.574219</td>\n",
              "      <td>0.013672</td>\n",
              "      <td>0.009766</td>\n",
              "      <td>0.002930</td>\n",
              "      <td>0.003906</td>\n",
              "      <td>0.000977</td>\n",
              "      <td>0.001953</td>\n",
              "      <td>0.001953</td>\n",
              "      <td>0.001953</td>\n",
              "      <td>...</td>\n",
              "      <td>0.013922</td>\n",
              "      <td>0.059002</td>\n",
              "      <td>0.006792</td>\n",
              "      <td>0.010240</td>\n",
              "      <td>0.000000</td>\n",
              "      <td>0.008247</td>\n",
              "      <td>0.001085</td>\n",
              "      <td>0.000000</td>\n",
              "      <td>0.000000</td>\n",
              "      <td>0.000000</td>\n",
              "    </tr>\n",
              "  </tbody>\n",
              "</table>\n",
              "<p>253 rows × 384 columns</p>\n",
              "</div>\n",
              "      <button class=\"colab-df-convert\" onclick=\"convertToInteractive('df-81d66bb5-c720-435b-a91a-93cdf112e1e4')\"\n",
              "              title=\"Convert this dataframe to an interactive table.\"\n",
              "              style=\"display:none;\">\n",
              "        \n",
              "  <svg xmlns=\"http://www.w3.org/2000/svg\" height=\"24px\"viewBox=\"0 0 24 24\"\n",
              "       width=\"24px\">\n",
              "    <path d=\"M0 0h24v24H0V0z\" fill=\"none\"/>\n",
              "    <path d=\"M18.56 5.44l.94 2.06.94-2.06 2.06-.94-2.06-.94-.94-2.06-.94 2.06-2.06.94zm-11 1L8.5 8.5l.94-2.06 2.06-.94-2.06-.94L8.5 2.5l-.94 2.06-2.06.94zm10 10l.94 2.06.94-2.06 2.06-.94-2.06-.94-.94-2.06-.94 2.06-2.06.94z\"/><path d=\"M17.41 7.96l-1.37-1.37c-.4-.4-.92-.59-1.43-.59-.52 0-1.04.2-1.43.59L10.3 9.45l-7.72 7.72c-.78.78-.78 2.05 0 2.83L4 21.41c.39.39.9.59 1.41.59.51 0 1.02-.2 1.41-.59l7.78-7.78 2.81-2.81c.8-.78.8-2.07 0-2.86zM5.41 20L4 18.59l7.72-7.72 1.47 1.35L5.41 20z\"/>\n",
              "  </svg>\n",
              "      </button>\n",
              "      \n",
              "  <style>\n",
              "    .colab-df-container {\n",
              "      display:flex;\n",
              "      flex-wrap:wrap;\n",
              "      gap: 12px;\n",
              "    }\n",
              "\n",
              "    .colab-df-convert {\n",
              "      background-color: #E8F0FE;\n",
              "      border: none;\n",
              "      border-radius: 50%;\n",
              "      cursor: pointer;\n",
              "      display: none;\n",
              "      fill: #1967D2;\n",
              "      height: 32px;\n",
              "      padding: 0 0 0 0;\n",
              "      width: 32px;\n",
              "    }\n",
              "\n",
              "    .colab-df-convert:hover {\n",
              "      background-color: #E2EBFA;\n",
              "      box-shadow: 0px 1px 2px rgba(60, 64, 67, 0.3), 0px 1px 3px 1px rgba(60, 64, 67, 0.15);\n",
              "      fill: #174EA6;\n",
              "    }\n",
              "\n",
              "    [theme=dark] .colab-df-convert {\n",
              "      background-color: #3B4455;\n",
              "      fill: #D2E3FC;\n",
              "    }\n",
              "\n",
              "    [theme=dark] .colab-df-convert:hover {\n",
              "      background-color: #434B5C;\n",
              "      box-shadow: 0px 1px 3px 1px rgba(0, 0, 0, 0.15);\n",
              "      filter: drop-shadow(0px 1px 2px rgba(0, 0, 0, 0.3));\n",
              "      fill: #FFFFFF;\n",
              "    }\n",
              "  </style>\n",
              "\n",
              "      <script>\n",
              "        const buttonEl =\n",
              "          document.querySelector('#df-81d66bb5-c720-435b-a91a-93cdf112e1e4 button.colab-df-convert');\n",
              "        buttonEl.style.display =\n",
              "          google.colab.kernel.accessAllowed ? 'block' : 'none';\n",
              "\n",
              "        async function convertToInteractive(key) {\n",
              "          const element = document.querySelector('#df-81d66bb5-c720-435b-a91a-93cdf112e1e4');\n",
              "          const dataTable =\n",
              "            await google.colab.kernel.invokeFunction('convertToInteractive',\n",
              "                                                     [key], {});\n",
              "          if (!dataTable) return;\n",
              "\n",
              "          const docLinkHtml = 'Like what you see? Visit the ' +\n",
              "            '<a target=\"_blank\" href=https://colab.research.google.com/notebooks/data_table.ipynb>data table notebook</a>'\n",
              "            + ' to learn more about interactive tables.';\n",
              "          element.innerHTML = '';\n",
              "          dataTable['output_type'] = 'display_data';\n",
              "          await google.colab.output.renderOutput(dataTable, element);\n",
              "          const docLink = document.createElement('div');\n",
              "          docLink.innerHTML = docLinkHtml;\n",
              "          element.appendChild(docLink);\n",
              "        }\n",
              "      </script>\n",
              "    </div>\n",
              "  </div>\n",
              "  "
            ]
          },
          "metadata": {},
          "execution_count": 29
        }
      ]
    },
    {
      "cell_type": "markdown",
      "source": [
        "\n",
        "\n",
        "---\n",
        "\n",
        "\n",
        "\n",
        "This code segment trains an SVM (Support Vector Machine) classifier using the svm.SVC() class.\n",
        "\n",
        "  > An instance of the svm.SVC() class is created and assigned to the clf variable.\n",
        "\n",
        "  > The feature data X_train and target data data_target are converted into numpy arrays using np.array().\n",
        "\n",
        "  > The feature data X_train is reshaped using .reshape() to have a single feature vector for each sample.\n",
        "\n",
        "  > The feature data X_train and target data data_target are concatenated horizontally using np.hstack() to create a single dataset.\n",
        "\n",
        "  > The dataset is shuffled randomly using np.random.shuffle() to mix the samples.\n",
        "\n",
        "  > The dataset is split into training and testing data using train_test_split() from scikit-learn. The testing data size is set to 20% of the entire dataset, and the random state is fixed at 42 for reproducibility.\n",
        "\n",
        "  >  The training data is further split into input data train_X (features) and target labels train_y.\n",
        "\n",
        "  >  The testing data is split into input data test_X (features) and target labels test_y.\n",
        "\n",
        "  > The SVM classifier is trained on the training data using clf.fit(train_X, train_y).\n",
        "\n",
        "  > The accuracy of the trained classifier is evaluated on the testing data using clf.score(test_X, test_y), and the result is assigned to the accuracy variable.\n",
        "\n",
        "  > The accuracy is printed using print(\"Accuracy:\", accuracy).\n",
        "\n",
        "  This code performs the training and evaluation of an SVM classifier using the provided training and testing data and prints the accuracy of the classifier on the testing data."
      ],
      "metadata": {
        "id": "ZKp8eMcxaimn"
      }
    },
    {
      "cell_type": "code",
      "source": [
        "clf = svm.SVC() #\n",
        "\n",
        "\n",
        "X_train = np.array(X_train)\n",
        "data_target = np.array(data_target)\n",
        "\n",
        "\n",
        "X_train = X_train.reshape(X_train.shape[0], -1)\n",
        "\n",
        "# Concatenate the features and target arrays horizontally\n",
        "data_frame = np.hstack((X_train, data_target))\n",
        "\n",
        "# Shuffle the data_frame array\n",
        "np.random.shuffle(data_frame)\n",
        "\n",
        "# Split the data_frame array into training and testing arrays\n",
        "train_data, test_data = train_test_split(data_frame, test_size=0.2, random_state=42)\n",
        "\n",
        "# Split the training and testing arrays into input and target arrays\n",
        "train_X, train_y = train_data[:, :-1], train_data[:, -1]\n",
        "test_X, test_y = test_data[:, :-1], test_data[:, -1]\n",
        "\n",
        "# Train the SVM classifier on the training data\n",
        "clf.fit(train_X, train_y)\n",
        "\n",
        "# Evaluate the SVM classifier on the testing data\n",
        "accuracy = clf.score(test_X, test_y)\n",
        "print(\"Accuracy:\", accuracy)"
      ],
      "metadata": {
        "colab": {
          "base_uri": "https://localhost:8080/"
        },
        "id": "6HO86JHMn5wN",
        "outputId": "7116c761-0ce8-43c8-c370-0feb9feb5721"
      },
      "execution_count": null,
      "outputs": [
        {
          "output_type": "stream",
          "name": "stdout",
          "text": [
            "Accuracy: 0.7647058823529411\n"
          ]
        }
      ]
    },
    {
      "cell_type": "code",
      "source": [
        "y_pred = clf.predict(test_X)"
      ],
      "metadata": {
        "id": "E5kprZSSpTRV"
      },
      "execution_count": null,
      "outputs": []
    },
    {
      "cell_type": "markdown",
      "source": [
        "> **y_pred** : predicts the target labels for the testing data (test_X) using the trained SVM classifier (clf).\n",
        "\n",
        "This code evaluates the performance of the SVM classifier by calculating the accuracy score and generating a classification report that includes metrics such as precision, recall, F1-score, and support for each class in the testing data."
      ],
      "metadata": {
        "id": "NobfwU6wChl5"
      }
    },
    {
      "cell_type": "code",
      "source": [
        "print(\"Accuracy: \"+str(accuracy_score(test_y, y_pred)))\n",
        "print('\\n')\n",
        "print(classification_report(test_y, y_pred))"
      ],
      "metadata": {
        "colab": {
          "base_uri": "https://localhost:8080/"
        },
        "id": "cdZVmK9OpUSq",
        "outputId": "38c0f2bc-087f-48aa-eeab-b9c1db7c1926"
      },
      "execution_count": null,
      "outputs": [
        {
          "output_type": "stream",
          "name": "stdout",
          "text": [
            "Accuracy: 0.7647058823529411\n",
            "\n",
            "\n",
            "              precision    recall  f1-score   support\n",
            "\n",
            "         0.0       0.76      0.62      0.68        21\n",
            "         1.0       0.76      0.87      0.81        30\n",
            "\n",
            "    accuracy                           0.76        51\n",
            "   macro avg       0.76      0.74      0.75        51\n",
            "weighted avg       0.76      0.76      0.76        51\n",
            "\n"
          ]
        }
      ]
    }
  ]
}